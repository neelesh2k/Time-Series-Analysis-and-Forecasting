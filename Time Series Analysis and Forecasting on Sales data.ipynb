{
 "cells": [
  {
   "cell_type": "markdown",
   "metadata": {},
   "source": [
    "## Time Series Analysis and Forecasting on sales data"
   ]
  },
  {
   "cell_type": "markdown",
   "metadata": {},
   "source": [
    "### Problem Statement : \n",
    "We are provided with historical sales data for 45 stores located in different regions - each store contains a number of departments. The company also runs several promotional markdown events throughout the year. These markdowns precede prominent holidays, the four largest of which are the Super Bowl, Labor Day, Thanksgiving, and Christmas. The weeks including these holidays are weighted five times higher in the evaluation than non-holiday weeks.\n",
    "\n",
    "### Data :\n",
    "Anonymized information about the 45 stores, indicating the type and size of store. The data contains additional data related to the store, department, and regional activity for the given dates.\n",
    "\n",
    "    Store - the store number\n",
    "    Date - the week\n",
    "    Temperature - average temperature in the region\n",
    "    Fuel_Price - cost of fuel in the region\n",
    "    MarkDown1-5 - anonymized data related to promotional markdowns. MarkDown data is only available after Nov 2011, and is not available for all stores all the time. Any missing value is marked with an NA\n",
    "    CPI - the consumer price index\n",
    "    Unemployment - the unemployment rate\n",
    "    IsHoliday - whether the week is a special holiday week\n",
    "\n",
    "\n",
    "\n",
    "Historical sales data, which covers to 2010-02-05 to 2012-11-01. Within this tab you will find the following fields:\n",
    "\n",
    "    Store - the store number\n",
    "    Dept - the department number\n",
    "    Date - the week\n",
    "    Weekly_Sales -  sales for the given department in the given store\n",
    "    IsHoliday - whether the week is a special holiday week\n"
   ]
  },
  {
   "cell_type": "markdown",
   "metadata": {},
   "source": [
    "### The Task\n",
    "\n",
    "Predict the department-wide sales for each store for the following year.\n",
    "\n",
    "Model the effects of markdowns on holiday weeks.\n",
    "\n",
    "Provide recommended actions based on the insights drawn, with prioritization placed on largest business impact\n"
   ]
  },
  {
   "cell_type": "code",
   "execution_count": 1,
   "metadata": {},
   "outputs": [],
   "source": [
    "#Importing Libraries\n",
    "import numpy as np\n",
    "import pandas as pd\n",
    "import matplotlib.pyplot as plt\n",
    "import seaborn as sns"
   ]
  },
  {
   "cell_type": "markdown",
   "metadata": {},
   "source": [
    "#### Loading the Dataset"
   ]
  },
  {
   "cell_type": "code",
   "execution_count": 2,
   "metadata": {},
   "outputs": [],
   "source": [
    "sales = pd.read_csv('sales_data.csv')"
   ]
  },
  {
   "cell_type": "code",
   "execution_count": 3,
   "metadata": {},
   "outputs": [
    {
     "data": {
      "text/html": [
       "<div>\n",
       "<style scoped>\n",
       "    .dataframe tbody tr th:only-of-type {\n",
       "        vertical-align: middle;\n",
       "    }\n",
       "\n",
       "    .dataframe tbody tr th {\n",
       "        vertical-align: top;\n",
       "    }\n",
       "\n",
       "    .dataframe thead th {\n",
       "        text-align: right;\n",
       "    }\n",
       "</style>\n",
       "<table border=\"1\" class=\"dataframe\">\n",
       "  <thead>\n",
       "    <tr style=\"text-align: right;\">\n",
       "      <th></th>\n",
       "      <th>Unnamed: 0</th>\n",
       "      <th>Store</th>\n",
       "      <th>Dept</th>\n",
       "      <th>Date</th>\n",
       "      <th>Weekly_Sales</th>\n",
       "      <th>IsHoliday</th>\n",
       "      <th>Temperature</th>\n",
       "      <th>Fuel_Price</th>\n",
       "      <th>MarkDown1</th>\n",
       "      <th>MarkDown2</th>\n",
       "      <th>MarkDown3</th>\n",
       "      <th>MarkDown4</th>\n",
       "      <th>MarkDown5</th>\n",
       "      <th>CPI</th>\n",
       "      <th>Unemployment</th>\n",
       "      <th>Type</th>\n",
       "      <th>Size</th>\n",
       "    </tr>\n",
       "  </thead>\n",
       "  <tbody>\n",
       "    <tr>\n",
       "      <th>0</th>\n",
       "      <td>0</td>\n",
       "      <td>1</td>\n",
       "      <td>1</td>\n",
       "      <td>2010-05-02</td>\n",
       "      <td>24924.50</td>\n",
       "      <td>False</td>\n",
       "      <td>5.727778</td>\n",
       "      <td>2.572</td>\n",
       "      <td>0.0</td>\n",
       "      <td>0.0</td>\n",
       "      <td>0.0</td>\n",
       "      <td>0.0</td>\n",
       "      <td>0.0</td>\n",
       "      <td>211.096358</td>\n",
       "      <td>8.106</td>\n",
       "      <td>0</td>\n",
       "      <td>151315</td>\n",
       "    </tr>\n",
       "    <tr>\n",
       "      <th>1</th>\n",
       "      <td>1</td>\n",
       "      <td>1</td>\n",
       "      <td>1</td>\n",
       "      <td>2010-12-02</td>\n",
       "      <td>46039.49</td>\n",
       "      <td>True</td>\n",
       "      <td>3.616667</td>\n",
       "      <td>2.548</td>\n",
       "      <td>0.0</td>\n",
       "      <td>0.0</td>\n",
       "      <td>0.0</td>\n",
       "      <td>0.0</td>\n",
       "      <td>0.0</td>\n",
       "      <td>211.242170</td>\n",
       "      <td>8.106</td>\n",
       "      <td>0</td>\n",
       "      <td>151315</td>\n",
       "    </tr>\n",
       "    <tr>\n",
       "      <th>2</th>\n",
       "      <td>2</td>\n",
       "      <td>1</td>\n",
       "      <td>1</td>\n",
       "      <td>2010-02-19</td>\n",
       "      <td>41595.55</td>\n",
       "      <td>False</td>\n",
       "      <td>4.405556</td>\n",
       "      <td>2.514</td>\n",
       "      <td>0.0</td>\n",
       "      <td>0.0</td>\n",
       "      <td>0.0</td>\n",
       "      <td>0.0</td>\n",
       "      <td>0.0</td>\n",
       "      <td>211.289143</td>\n",
       "      <td>8.106</td>\n",
       "      <td>0</td>\n",
       "      <td>151315</td>\n",
       "    </tr>\n",
       "    <tr>\n",
       "      <th>3</th>\n",
       "      <td>3</td>\n",
       "      <td>1</td>\n",
       "      <td>1</td>\n",
       "      <td>2010-02-26</td>\n",
       "      <td>19403.54</td>\n",
       "      <td>False</td>\n",
       "      <td>8.127778</td>\n",
       "      <td>2.561</td>\n",
       "      <td>0.0</td>\n",
       "      <td>0.0</td>\n",
       "      <td>0.0</td>\n",
       "      <td>0.0</td>\n",
       "      <td>0.0</td>\n",
       "      <td>211.319643</td>\n",
       "      <td>8.106</td>\n",
       "      <td>0</td>\n",
       "      <td>151315</td>\n",
       "    </tr>\n",
       "    <tr>\n",
       "      <th>4</th>\n",
       "      <td>4</td>\n",
       "      <td>1</td>\n",
       "      <td>1</td>\n",
       "      <td>2010-05-03</td>\n",
       "      <td>21827.90</td>\n",
       "      <td>False</td>\n",
       "      <td>8.055556</td>\n",
       "      <td>2.625</td>\n",
       "      <td>0.0</td>\n",
       "      <td>0.0</td>\n",
       "      <td>0.0</td>\n",
       "      <td>0.0</td>\n",
       "      <td>0.0</td>\n",
       "      <td>211.350143</td>\n",
       "      <td>8.106</td>\n",
       "      <td>0</td>\n",
       "      <td>151315</td>\n",
       "    </tr>\n",
       "  </tbody>\n",
       "</table>\n",
       "</div>"
      ],
      "text/plain": [
       "   Unnamed: 0  Store  Dept        Date  Weekly_Sales  IsHoliday  Temperature  \\\n",
       "0           0      1     1  2010-05-02      24924.50      False     5.727778   \n",
       "1           1      1     1  2010-12-02      46039.49       True     3.616667   \n",
       "2           2      1     1  2010-02-19      41595.55      False     4.405556   \n",
       "3           3      1     1  2010-02-26      19403.54      False     8.127778   \n",
       "4           4      1     1  2010-05-03      21827.90      False     8.055556   \n",
       "\n",
       "   Fuel_Price  MarkDown1  MarkDown2  MarkDown3  MarkDown4  MarkDown5  \\\n",
       "0       2.572        0.0        0.0        0.0        0.0        0.0   \n",
       "1       2.548        0.0        0.0        0.0        0.0        0.0   \n",
       "2       2.514        0.0        0.0        0.0        0.0        0.0   \n",
       "3       2.561        0.0        0.0        0.0        0.0        0.0   \n",
       "4       2.625        0.0        0.0        0.0        0.0        0.0   \n",
       "\n",
       "          CPI  Unemployment  Type    Size  \n",
       "0  211.096358         8.106     0  151315  \n",
       "1  211.242170         8.106     0  151315  \n",
       "2  211.289143         8.106     0  151315  \n",
       "3  211.319643         8.106     0  151315  \n",
       "4  211.350143         8.106     0  151315  "
      ]
     },
     "execution_count": 3,
     "metadata": {},
     "output_type": "execute_result"
    }
   ],
   "source": [
    "sales.head()"
   ]
  },
  {
   "cell_type": "code",
   "execution_count": 4,
   "metadata": {},
   "outputs": [
    {
     "data": {
      "text/plain": [
       "(421570, 17)"
      ]
     },
     "execution_count": 4,
     "metadata": {},
     "output_type": "execute_result"
    }
   ],
   "source": [
    "sales.shape"
   ]
  },
  {
   "cell_type": "code",
   "execution_count": 5,
   "metadata": {},
   "outputs": [
    {
     "data": {
      "text/html": [
       "<div>\n",
       "<style scoped>\n",
       "    .dataframe tbody tr th:only-of-type {\n",
       "        vertical-align: middle;\n",
       "    }\n",
       "\n",
       "    .dataframe tbody tr th {\n",
       "        vertical-align: top;\n",
       "    }\n",
       "\n",
       "    .dataframe thead th {\n",
       "        text-align: right;\n",
       "    }\n",
       "</style>\n",
       "<table border=\"1\" class=\"dataframe\">\n",
       "  <thead>\n",
       "    <tr style=\"text-align: right;\">\n",
       "      <th></th>\n",
       "      <th>Unnamed: 0</th>\n",
       "      <th>Store</th>\n",
       "      <th>Dept</th>\n",
       "      <th>Date</th>\n",
       "      <th>Weekly_Sales</th>\n",
       "      <th>IsHoliday</th>\n",
       "      <th>Temperature</th>\n",
       "      <th>Fuel_Price</th>\n",
       "      <th>MarkDown1</th>\n",
       "      <th>MarkDown2</th>\n",
       "      <th>MarkDown3</th>\n",
       "      <th>MarkDown4</th>\n",
       "      <th>MarkDown5</th>\n",
       "      <th>CPI</th>\n",
       "      <th>Unemployment</th>\n",
       "      <th>Type</th>\n",
       "      <th>Size</th>\n",
       "    </tr>\n",
       "  </thead>\n",
       "  <tbody>\n",
       "    <tr>\n",
       "      <th>421565</th>\n",
       "      <td>421565</td>\n",
       "      <td>45</td>\n",
       "      <td>98</td>\n",
       "      <td>2012-09-28</td>\n",
       "      <td>508.37</td>\n",
       "      <td>False</td>\n",
       "      <td>18.266667</td>\n",
       "      <td>3.997</td>\n",
       "      <td>4556.61</td>\n",
       "      <td>20.64</td>\n",
       "      <td>1.50</td>\n",
       "      <td>1601.01</td>\n",
       "      <td>3288.25</td>\n",
       "      <td>192.013558</td>\n",
       "      <td>8.684</td>\n",
       "      <td>1</td>\n",
       "      <td>118221</td>\n",
       "    </tr>\n",
       "    <tr>\n",
       "      <th>421566</th>\n",
       "      <td>421566</td>\n",
       "      <td>45</td>\n",
       "      <td>98</td>\n",
       "      <td>2012-05-10</td>\n",
       "      <td>628.10</td>\n",
       "      <td>False</td>\n",
       "      <td>18.272222</td>\n",
       "      <td>3.985</td>\n",
       "      <td>5046.74</td>\n",
       "      <td>0.00</td>\n",
       "      <td>18.82</td>\n",
       "      <td>2253.43</td>\n",
       "      <td>2340.01</td>\n",
       "      <td>192.170412</td>\n",
       "      <td>8.667</td>\n",
       "      <td>1</td>\n",
       "      <td>118221</td>\n",
       "    </tr>\n",
       "    <tr>\n",
       "      <th>421567</th>\n",
       "      <td>421567</td>\n",
       "      <td>45</td>\n",
       "      <td>98</td>\n",
       "      <td>2012-12-10</td>\n",
       "      <td>1061.02</td>\n",
       "      <td>False</td>\n",
       "      <td>12.483333</td>\n",
       "      <td>4.000</td>\n",
       "      <td>1956.28</td>\n",
       "      <td>0.00</td>\n",
       "      <td>7.89</td>\n",
       "      <td>599.32</td>\n",
       "      <td>3990.54</td>\n",
       "      <td>192.327265</td>\n",
       "      <td>8.667</td>\n",
       "      <td>1</td>\n",
       "      <td>118221</td>\n",
       "    </tr>\n",
       "    <tr>\n",
       "      <th>421568</th>\n",
       "      <td>421568</td>\n",
       "      <td>45</td>\n",
       "      <td>98</td>\n",
       "      <td>2012-10-19</td>\n",
       "      <td>760.01</td>\n",
       "      <td>False</td>\n",
       "      <td>13.594444</td>\n",
       "      <td>3.969</td>\n",
       "      <td>2004.02</td>\n",
       "      <td>0.00</td>\n",
       "      <td>3.18</td>\n",
       "      <td>437.73</td>\n",
       "      <td>1537.49</td>\n",
       "      <td>192.330854</td>\n",
       "      <td>8.667</td>\n",
       "      <td>1</td>\n",
       "      <td>118221</td>\n",
       "    </tr>\n",
       "    <tr>\n",
       "      <th>421569</th>\n",
       "      <td>421569</td>\n",
       "      <td>45</td>\n",
       "      <td>98</td>\n",
       "      <td>2012-10-26</td>\n",
       "      <td>1076.80</td>\n",
       "      <td>False</td>\n",
       "      <td>14.916667</td>\n",
       "      <td>3.882</td>\n",
       "      <td>4018.91</td>\n",
       "      <td>58.08</td>\n",
       "      <td>100.00</td>\n",
       "      <td>211.94</td>\n",
       "      <td>858.33</td>\n",
       "      <td>192.308899</td>\n",
       "      <td>8.667</td>\n",
       "      <td>1</td>\n",
       "      <td>118221</td>\n",
       "    </tr>\n",
       "  </tbody>\n",
       "</table>\n",
       "</div>"
      ],
      "text/plain": [
       "        Unnamed: 0  Store  Dept        Date  Weekly_Sales  IsHoliday  \\\n",
       "421565      421565     45    98  2012-09-28        508.37      False   \n",
       "421566      421566     45    98  2012-05-10        628.10      False   \n",
       "421567      421567     45    98  2012-12-10       1061.02      False   \n",
       "421568      421568     45    98  2012-10-19        760.01      False   \n",
       "421569      421569     45    98  2012-10-26       1076.80      False   \n",
       "\n",
       "        Temperature  Fuel_Price  MarkDown1  MarkDown2  MarkDown3  MarkDown4  \\\n",
       "421565    18.266667       3.997    4556.61      20.64       1.50    1601.01   \n",
       "421566    18.272222       3.985    5046.74       0.00      18.82    2253.43   \n",
       "421567    12.483333       4.000    1956.28       0.00       7.89     599.32   \n",
       "421568    13.594444       3.969    2004.02       0.00       3.18     437.73   \n",
       "421569    14.916667       3.882    4018.91      58.08     100.00     211.94   \n",
       "\n",
       "        MarkDown5         CPI  Unemployment  Type    Size  \n",
       "421565    3288.25  192.013558         8.684     1  118221  \n",
       "421566    2340.01  192.170412         8.667     1  118221  \n",
       "421567    3990.54  192.327265         8.667     1  118221  \n",
       "421568    1537.49  192.330854         8.667     1  118221  \n",
       "421569     858.33  192.308899         8.667     1  118221  "
      ]
     },
     "execution_count": 5,
     "metadata": {},
     "output_type": "execute_result"
    }
   ],
   "source": [
    "sales.tail()"
   ]
  },
  {
   "cell_type": "code",
   "execution_count": 6,
   "metadata": {},
   "outputs": [
    {
     "data": {
      "text/plain": [
       "<matplotlib.axes._subplots.AxesSubplot at 0x27920312710>"
      ]
     },
     "execution_count": 6,
     "metadata": {},
     "output_type": "execute_result"
    },
    {
     "data": {
      "image/png": "[encoded data removed]",
      "text/plain": [
       "<Figure size 432x288 with 1 Axes>"
      ]
     },
     "metadata": {
      "needs_background": "light"
     },
     "output_type": "display_data"
    }
   ],
   "source": [
    "sns.heatmap(sales.isnull(),yticklabels=False,cbar=False,cmap='viridis')"
   ]
  },
  {
   "cell_type": "code",
   "execution_count": 7,
   "metadata": {},
   "outputs": [
    {
     "name": "stdout",
     "output_type": "stream",
     "text": [
      "<class 'pandas.core.frame.DataFrame'>\n",
      "RangeIndex: 421570 entries, 0 to 421569\n",
      "Data columns (total 17 columns):\n",
      "Unnamed: 0      421570 non-null int64\n",
      "Store           421570 non-null int64\n",
      "Dept            421570 non-null int64\n",
      "Date            421570 non-null object\n",
      "Weekly_Sales    421570 non-null float64\n",
      "IsHoliday       421570 non-null bool\n",
      "Temperature     421570 non-null float64\n",
      "Fuel_Price      421570 non-null float64\n",
      "MarkDown1       421570 non-null float64\n",
      "MarkDown2       421570 non-null float64\n",
      "MarkDown3       421570 non-null float64\n",
      "MarkDown4       421570 non-null float64\n",
      "MarkDown5       421570 non-null float64\n",
      "CPI             421570 non-null float64\n",
      "Unemployment    421570 non-null float64\n",
      "Type            421570 non-null int64\n",
      "Size            421570 non-null int64\n",
      "dtypes: bool(1), float64(10), int64(5), object(1)\n",
      "memory usage: 51.9+ MB\n"
     ]
    }
   ],
   "source": [
    "sales.info()"
   ]
  },
  {
   "cell_type": "code",
   "execution_count": 8,
   "metadata": {},
   "outputs": [
    {
     "data": {
      "text/html": [
       "<div>\n",
       "<style scoped>\n",
       "    .dataframe tbody tr th:only-of-type {\n",
       "        vertical-align: middle;\n",
       "    }\n",
       "\n",
       "    .dataframe tbody tr th {\n",
       "        vertical-align: top;\n",
       "    }\n",
       "\n",
       "    .dataframe thead th {\n",
       "        text-align: right;\n",
       "    }\n",
       "</style>\n",
       "<table border=\"1\" class=\"dataframe\">\n",
       "  <thead>\n",
       "    <tr style=\"text-align: right;\">\n",
       "      <th></th>\n",
       "      <th>Unnamed: 0</th>\n",
       "      <th>Store</th>\n",
       "      <th>Dept</th>\n",
       "      <th>Weekly_Sales</th>\n",
       "      <th>Temperature</th>\n",
       "      <th>Fuel_Price</th>\n",
       "      <th>MarkDown1</th>\n",
       "      <th>MarkDown2</th>\n",
       "      <th>MarkDown3</th>\n",
       "      <th>MarkDown4</th>\n",
       "      <th>MarkDown5</th>\n",
       "      <th>CPI</th>\n",
       "      <th>Unemployment</th>\n",
       "      <th>Type</th>\n",
       "      <th>Size</th>\n",
       "    </tr>\n",
       "  </thead>\n",
       "  <tbody>\n",
       "    <tr>\n",
       "      <th>count</th>\n",
       "      <td>421570.000000</td>\n",
       "      <td>421570.000000</td>\n",
       "      <td>421570.000000</td>\n",
       "      <td>421570.000000</td>\n",
       "      <td>421570.000000</td>\n",
       "      <td>421570.000000</td>\n",
       "      <td>421570.000000</td>\n",
       "      <td>421570.000000</td>\n",
       "      <td>421570.000000</td>\n",
       "      <td>421570.000000</td>\n",
       "      <td>421570.000000</td>\n",
       "      <td>421570.000000</td>\n",
       "      <td>421570.000000</td>\n",
       "      <td>421570.000000</td>\n",
       "      <td>421570.000000</td>\n",
       "    </tr>\n",
       "    <tr>\n",
       "      <th>mean</th>\n",
       "      <td>210784.500000</td>\n",
       "      <td>22.200546</td>\n",
       "      <td>44.260317</td>\n",
       "      <td>15981.258123</td>\n",
       "      <td>15.605588</td>\n",
       "      <td>3.361027</td>\n",
       "      <td>2590.074819</td>\n",
       "      <td>879.974298</td>\n",
       "      <td>468.087665</td>\n",
       "      <td>1083.132268</td>\n",
       "      <td>1662.772385</td>\n",
       "      <td>171.201947</td>\n",
       "      <td>7.960289</td>\n",
       "      <td>0.589912</td>\n",
       "      <td>136727.915739</td>\n",
       "    </tr>\n",
       "    <tr>\n",
       "      <th>std</th>\n",
       "      <td>121696.920828</td>\n",
       "      <td>12.785297</td>\n",
       "      <td>30.492054</td>\n",
       "      <td>22711.183519</td>\n",
       "      <td>10.248851</td>\n",
       "      <td>0.458515</td>\n",
       "      <td>6052.385934</td>\n",
       "      <td>5084.538801</td>\n",
       "      <td>5528.873453</td>\n",
       "      <td>3894.529945</td>\n",
       "      <td>4207.629321</td>\n",
       "      <td>39.159276</td>\n",
       "      <td>1.863296</td>\n",
       "      <td>0.666337</td>\n",
       "      <td>60980.583328</td>\n",
       "    </tr>\n",
       "    <tr>\n",
       "      <th>min</th>\n",
       "      <td>0.000000</td>\n",
       "      <td>1.000000</td>\n",
       "      <td>1.000000</td>\n",
       "      <td>-4988.940000</td>\n",
       "      <td>-18.922222</td>\n",
       "      <td>2.472000</td>\n",
       "      <td>0.000000</td>\n",
       "      <td>-265.760000</td>\n",
       "      <td>-29.100000</td>\n",
       "      <td>0.000000</td>\n",
       "      <td>0.000000</td>\n",
       "      <td>126.064000</td>\n",
       "      <td>3.879000</td>\n",
       "      <td>0.000000</td>\n",
       "      <td>34875.000000</td>\n",
       "    </tr>\n",
       "    <tr>\n",
       "      <th>25%</th>\n",
       "      <td>105392.250000</td>\n",
       "      <td>11.000000</td>\n",
       "      <td>18.000000</td>\n",
       "      <td>2079.650000</td>\n",
       "      <td>8.155556</td>\n",
       "      <td>2.933000</td>\n",
       "      <td>0.000000</td>\n",
       "      <td>0.000000</td>\n",
       "      <td>0.000000</td>\n",
       "      <td>0.000000</td>\n",
       "      <td>0.000000</td>\n",
       "      <td>132.022667</td>\n",
       "      <td>6.891000</td>\n",
       "      <td>0.000000</td>\n",
       "      <td>93638.000000</td>\n",
       "    </tr>\n",
       "    <tr>\n",
       "      <th>50%</th>\n",
       "      <td>210784.500000</td>\n",
       "      <td>22.000000</td>\n",
       "      <td>37.000000</td>\n",
       "      <td>7612.030000</td>\n",
       "      <td>16.716667</td>\n",
       "      <td>3.452000</td>\n",
       "      <td>0.000000</td>\n",
       "      <td>0.000000</td>\n",
       "      <td>0.000000</td>\n",
       "      <td>0.000000</td>\n",
       "      <td>0.000000</td>\n",
       "      <td>182.318780</td>\n",
       "      <td>7.866000</td>\n",
       "      <td>0.000000</td>\n",
       "      <td>140167.000000</td>\n",
       "    </tr>\n",
       "    <tr>\n",
       "      <th>75%</th>\n",
       "      <td>316176.750000</td>\n",
       "      <td>33.000000</td>\n",
       "      <td>74.000000</td>\n",
       "      <td>20205.852500</td>\n",
       "      <td>23.488889</td>\n",
       "      <td>3.738000</td>\n",
       "      <td>2809.050000</td>\n",
       "      <td>2.200000</td>\n",
       "      <td>4.540000</td>\n",
       "      <td>425.290000</td>\n",
       "      <td>2168.040000</td>\n",
       "      <td>212.416993</td>\n",
       "      <td>8.572000</td>\n",
       "      <td>1.000000</td>\n",
       "      <td>202505.000000</td>\n",
       "    </tr>\n",
       "    <tr>\n",
       "      <th>max</th>\n",
       "      <td>421569.000000</td>\n",
       "      <td>45.000000</td>\n",
       "      <td>99.000000</td>\n",
       "      <td>693099.360000</td>\n",
       "      <td>37.855556</td>\n",
       "      <td>4.468000</td>\n",
       "      <td>88646.760000</td>\n",
       "      <td>104519.540000</td>\n",
       "      <td>141630.610000</td>\n",
       "      <td>67474.850000</td>\n",
       "      <td>108519.280000</td>\n",
       "      <td>227.232807</td>\n",
       "      <td>14.313000</td>\n",
       "      <td>2.000000</td>\n",
       "      <td>219622.000000</td>\n",
       "    </tr>\n",
       "  </tbody>\n",
       "</table>\n",
       "</div>"
      ],
      "text/plain": [
       "          Unnamed: 0          Store           Dept   Weekly_Sales  \\\n",
       "count  421570.000000  421570.000000  421570.000000  421570.000000   \n",
       "mean   210784.500000      22.200546      44.260317   15981.258123   \n",
       "std    121696.920828      12.785297      30.492054   22711.183519   \n",
       "min         0.000000       1.000000       1.000000   -4988.940000   \n",
       "25%    105392.250000      11.000000      18.000000    2079.650000   \n",
       "50%    210784.500000      22.000000      37.000000    7612.030000   \n",
       "75%    316176.750000      33.000000      74.000000   20205.852500   \n",
       "max    421569.000000      45.000000      99.000000  693099.360000   \n",
       "\n",
       "         Temperature     Fuel_Price      MarkDown1      MarkDown2  \\\n",
       "count  421570.000000  421570.000000  421570.000000  421570.000000   \n",
       "mean       15.605588       3.361027    2590.074819     879.974298   \n",
       "std        10.248851       0.458515    6052.385934    5084.538801   \n",
       "min       -18.922222       2.472000       0.000000    -265.760000   \n",
       "25%         8.155556       2.933000       0.000000       0.000000   \n",
       "50%        16.716667       3.452000       0.000000       0.000000   \n",
       "75%        23.488889       3.738000    2809.050000       2.200000   \n",
       "max        37.855556       4.468000   88646.760000  104519.540000   \n",
       "\n",
       "           MarkDown3      MarkDown4      MarkDown5            CPI  \\\n",
       "count  421570.000000  421570.000000  421570.000000  421570.000000   \n",
       "mean      468.087665    1083.132268    1662.772385     171.201947   \n",
       "std      5528.873453    3894.529945    4207.629321      39.159276   \n",
       "min       -29.100000       0.000000       0.000000     126.064000   \n",
       "25%         0.000000       0.000000       0.000000     132.022667   \n",
       "50%         0.000000       0.000000       0.000000     182.318780   \n",
       "75%         4.540000     425.290000    2168.040000     212.416993   \n",
       "max    141630.610000   67474.850000  108519.280000     227.232807   \n",
       "\n",
       "        Unemployment           Type           Size  \n",
       "count  421570.000000  421570.000000  421570.000000  \n",
       "mean        7.960289       0.589912  136727.915739  \n",
       "std         1.863296       0.666337   60980.583328  \n",
       "min         3.879000       0.000000   34875.000000  \n",
       "25%         6.891000       0.000000   93638.000000  \n",
       "50%         7.866000       0.000000  140167.000000  \n",
       "75%         8.572000       1.000000  202505.000000  \n",
       "max        14.313000       2.000000  219622.000000  "
      ]
     },
     "execution_count": 8,
     "metadata": {},
     "output_type": "execute_result"
    }
   ],
   "source": [
    "sales.describe()"
   ]
  },
  {
   "cell_type": "code",
   "execution_count": 9,
   "metadata": {},
   "outputs": [
    {
     "data": {
      "text/html": [
       "<div>\n",
       "<style scoped>\n",
       "    .dataframe tbody tr th:only-of-type {\n",
       "        vertical-align: middle;\n",
       "    }\n",
       "\n",
       "    .dataframe tbody tr th {\n",
       "        vertical-align: top;\n",
       "    }\n",
       "\n",
       "    .dataframe thead th {\n",
       "        text-align: right;\n",
       "    }\n",
       "</style>\n",
       "<table border=\"1\" class=\"dataframe\">\n",
       "  <thead>\n",
       "    <tr style=\"text-align: right;\">\n",
       "      <th></th>\n",
       "      <th>Store</th>\n",
       "      <th>Dept</th>\n",
       "      <th>Date</th>\n",
       "      <th>Weekly_Sales</th>\n",
       "      <th>IsHoliday</th>\n",
       "      <th>Temperature</th>\n",
       "      <th>Fuel_Price</th>\n",
       "      <th>MarkDown1</th>\n",
       "      <th>MarkDown2</th>\n",
       "      <th>MarkDown3</th>\n",
       "      <th>MarkDown4</th>\n",
       "      <th>MarkDown5</th>\n",
       "      <th>CPI</th>\n",
       "      <th>Unemployment</th>\n",
       "      <th>Type</th>\n",
       "      <th>Size</th>\n",
       "    </tr>\n",
       "  </thead>\n",
       "  <tbody>\n",
       "    <tr>\n",
       "      <th>0</th>\n",
       "      <td>1</td>\n",
       "      <td>1</td>\n",
       "      <td>2010-05-02</td>\n",
       "      <td>24924.50</td>\n",
       "      <td>False</td>\n",
       "      <td>5.727778</td>\n",
       "      <td>2.572</td>\n",
       "      <td>0.0</td>\n",
       "      <td>0.0</td>\n",
       "      <td>0.0</td>\n",
       "      <td>0.0</td>\n",
       "      <td>0.0</td>\n",
       "      <td>211.096358</td>\n",
       "      <td>8.106</td>\n",
       "      <td>0</td>\n",
       "      <td>151315</td>\n",
       "    </tr>\n",
       "    <tr>\n",
       "      <th>1</th>\n",
       "      <td>1</td>\n",
       "      <td>1</td>\n",
       "      <td>2010-12-02</td>\n",
       "      <td>46039.49</td>\n",
       "      <td>True</td>\n",
       "      <td>3.616667</td>\n",
       "      <td>2.548</td>\n",
       "      <td>0.0</td>\n",
       "      <td>0.0</td>\n",
       "      <td>0.0</td>\n",
       "      <td>0.0</td>\n",
       "      <td>0.0</td>\n",
       "      <td>211.242170</td>\n",
       "      <td>8.106</td>\n",
       "      <td>0</td>\n",
       "      <td>151315</td>\n",
       "    </tr>\n",
       "    <tr>\n",
       "      <th>2</th>\n",
       "      <td>1</td>\n",
       "      <td>1</td>\n",
       "      <td>2010-02-19</td>\n",
       "      <td>41595.55</td>\n",
       "      <td>False</td>\n",
       "      <td>4.405556</td>\n",
       "      <td>2.514</td>\n",
       "      <td>0.0</td>\n",
       "      <td>0.0</td>\n",
       "      <td>0.0</td>\n",
       "      <td>0.0</td>\n",
       "      <td>0.0</td>\n",
       "      <td>211.289143</td>\n",
       "      <td>8.106</td>\n",
       "      <td>0</td>\n",
       "      <td>151315</td>\n",
       "    </tr>\n",
       "    <tr>\n",
       "      <th>3</th>\n",
       "      <td>1</td>\n",
       "      <td>1</td>\n",
       "      <td>2010-02-26</td>\n",
       "      <td>19403.54</td>\n",
       "      <td>False</td>\n",
       "      <td>8.127778</td>\n",
       "      <td>2.561</td>\n",
       "      <td>0.0</td>\n",
       "      <td>0.0</td>\n",
       "      <td>0.0</td>\n",
       "      <td>0.0</td>\n",
       "      <td>0.0</td>\n",
       "      <td>211.319643</td>\n",
       "      <td>8.106</td>\n",
       "      <td>0</td>\n",
       "      <td>151315</td>\n",
       "    </tr>\n",
       "    <tr>\n",
       "      <th>4</th>\n",
       "      <td>1</td>\n",
       "      <td>1</td>\n",
       "      <td>2010-05-03</td>\n",
       "      <td>21827.90</td>\n",
       "      <td>False</td>\n",
       "      <td>8.055556</td>\n",
       "      <td>2.625</td>\n",
       "      <td>0.0</td>\n",
       "      <td>0.0</td>\n",
       "      <td>0.0</td>\n",
       "      <td>0.0</td>\n",
       "      <td>0.0</td>\n",
       "      <td>211.350143</td>\n",
       "      <td>8.106</td>\n",
       "      <td>0</td>\n",
       "      <td>151315</td>\n",
       "    </tr>\n",
       "  </tbody>\n",
       "</table>\n",
       "</div>"
      ],
      "text/plain": [
       "   Store  Dept        Date  Weekly_Sales  IsHoliday  Temperature  Fuel_Price  \\\n",
       "0      1     1  2010-05-02      24924.50      False     5.727778       2.572   \n",
       "1      1     1  2010-12-02      46039.49       True     3.616667       2.548   \n",
       "2      1     1  2010-02-19      41595.55      False     4.405556       2.514   \n",
       "3      1     1  2010-02-26      19403.54      False     8.127778       2.561   \n",
       "4      1     1  2010-05-03      21827.90      False     8.055556       2.625   \n",
       "\n",
       "   MarkDown1  MarkDown2  MarkDown3  MarkDown4  MarkDown5         CPI  \\\n",
       "0        0.0        0.0        0.0        0.0        0.0  211.096358   \n",
       "1        0.0        0.0        0.0        0.0        0.0  211.242170   \n",
       "2        0.0        0.0        0.0        0.0        0.0  211.289143   \n",
       "3        0.0        0.0        0.0        0.0        0.0  211.319643   \n",
       "4        0.0        0.0        0.0        0.0        0.0  211.350143   \n",
       "\n",
       "   Unemployment  Type    Size  \n",
       "0         8.106     0  151315  \n",
       "1         8.106     0  151315  \n",
       "2         8.106     0  151315  \n",
       "3         8.106     0  151315  \n",
       "4         8.106     0  151315  "
      ]
     },
     "execution_count": 9,
     "metadata": {},
     "output_type": "execute_result"
    }
   ],
   "source": [
    "remove = ['Unnamed: 0']\n",
    "sales.drop(remove,axis=1,inplace=True)\n",
    "sales.head()"
   ]
  },
  {
   "cell_type": "code",
   "execution_count": 10,
   "metadata": {},
   "outputs": [
    {
     "name": "stdout",
     "output_type": "stream",
     "text": [
      "Maximum Weekly Sales 693099.36\n",
      "Minimum Weekly Sales -4988.94\n"
     ]
    }
   ],
   "source": [
    "print(\"Maximum Weekly Sales\",sales['Weekly_Sales'].max())\n",
    "print(\"Minimum Weekly Sales\",sales['Weekly_Sales'].min())\n"
   ]
  },
  {
   "cell_type": "code",
   "execution_count": 11,
   "metadata": {},
   "outputs": [
    {
     "name": "stdout",
     "output_type": "stream",
     "text": [
      "Maximum Temperature : 37.85555555555555\n",
      "Minimum Temperature : -18.922222222222224\n"
     ]
    }
   ],
   "source": [
    "print(\"Maximum Temperature :\",sales['Temperature'].max())\n",
    "print(\"Minimum Temperature :\",sales['Temperature'].min())"
   ]
  },
  {
   "cell_type": "code",
   "execution_count": 12,
   "metadata": {},
   "outputs": [
    {
     "data": {
      "text/plain": [
       "array([ 1,  2,  3,  4,  5,  6,  7,  8,  9, 10, 11, 12, 13, 14, 16, 17, 18,\n",
       "       19, 20, 21, 22, 23, 24, 25, 26, 27, 28, 29, 30, 31, 32, 33, 34, 35,\n",
       "       36, 37, 38, 40, 41, 42, 44, 45, 46, 47, 48, 49, 51, 52, 54, 55, 56,\n",
       "       58, 59, 60, 67, 71, 72, 74, 77, 78, 79, 80, 81, 82, 83, 85, 87, 90,\n",
       "       91, 92, 93, 94, 95, 96, 97, 98, 99, 39, 50, 43, 65], dtype=int64)"
      ]
     },
     "execution_count": 12,
     "metadata": {},
     "output_type": "execute_result"
    }
   ],
   "source": [
    "sales['Dept'].unique()"
   ]
  },
  {
   "cell_type": "code",
   "execution_count": 13,
   "metadata": {},
   "outputs": [
    {
     "name": "stdout",
     "output_type": "stream",
     "text": [
      "Departments : \n",
      "[ 1  2  3  4  5  6  7  8  9 10 11 12 13 14 16 17 18 19 20 21 22 23 24 25\n",
      " 26 27 28 29 30 31 32 33 34 35 36 37 38 40 41 42 44 45 46 47 48 49 51 52\n",
      " 54 55 56 58 59 60 67 71 72 74 77 78 79 80 81 82 83 85 87 90 91 92 93 94\n",
      " 95 96 97 98 99 39 50 43 65]\n",
      "------------------------------\n",
      "Number of departments : 81\n"
     ]
    }
   ],
   "source": [
    "print(\"Departments : \")\n",
    "dept = sales['Dept'].unique()\n",
    "print(dept)\n",
    "print(\"-\"*30)\n",
    "print(\"Number of departments :\",len(dept))"
   ]
  },
  {
   "cell_type": "code",
   "execution_count": 14,
   "metadata": {},
   "outputs": [
    {
     "name": "stdout",
     "output_type": "stream",
     "text": [
      "0    215478\n",
      "1    163495\n",
      "2     42597\n",
      "Name: Type, dtype: int64\n"
     ]
    }
   ],
   "source": [
    "print(sales['Type'].value_counts())"
   ]
  },
  {
   "cell_type": "code",
   "execution_count": 15,
   "metadata": {},
   "outputs": [
    {
     "data": {
      "text/plain": [
       "<matplotlib.axes._subplots.AxesSubplot at 0x27920779630>"
      ]
     },
     "execution_count": 15,
     "metadata": {},
     "output_type": "execute_result"
    },
    {
     "data": {
      "image/png": "[encoded data removed]",
      "text/plain": [
       "<Figure size 432x288 with 1 Axes>"
      ]
     },
     "metadata": {
      "needs_background": "light"
     },
     "output_type": "display_data"
    }
   ],
   "source": [
    "sns.countplot(x=\"Type\",data=sales,palette=\"Greens_d\")"
   ]
  },
  {
   "cell_type": "code",
   "execution_count": 16,
   "metadata": {},
   "outputs": [
    {
     "data": {
      "text/plain": [
       "False    391909\n",
       "True      29661\n",
       "Name: IsHoliday, dtype: int64"
      ]
     },
     "execution_count": 16,
     "metadata": {},
     "output_type": "execute_result"
    }
   ],
   "source": [
    "sales['IsHoliday'].value_counts()"
   ]
  },
  {
   "cell_type": "code",
   "execution_count": 17,
   "metadata": {},
   "outputs": [
    {
     "data": {
      "text/plain": [
       "<matplotlib.axes._subplots.AxesSubplot at 0x279207c40f0>"
      ]
     },
     "execution_count": 17,
     "metadata": {},
     "output_type": "execute_result"
    },
    {
     "data": {
      "image/png": "[encoded data removed]",
      "text/plain": [
       "<Figure size 432x288 with 1 Axes>"
      ]
     },
     "metadata": {
      "needs_background": "light"
     },
     "output_type": "display_data"
    }
   ],
   "source": [
    "sns.barplot(x=\"Type\",y=\"Weekly_Sales\",data=sales)"
   ]
  },
  {
   "cell_type": "code",
   "execution_count": 18,
   "metadata": {},
   "outputs": [
    {
     "data": {
      "text/plain": [
       "<matplotlib.axes._subplots.AxesSubplot at 0x2792082e6a0>"
      ]
     },
     "execution_count": 18,
     "metadata": {},
     "output_type": "execute_result"
    },
    {
     "data": {
      "image/png": "[encoded data removed]",
      "text/plain": [
       "<Figure size 432x288 with 1 Axes>"
      ]
     },
     "metadata": {
      "needs_background": "light"
     },
     "output_type": "display_data"
    }
   ],
   "source": [
    "sns.barplot(x=\"Type\",y=\"Size\",data=sales)"
   ]
  },
  {
   "cell_type": "code",
   "execution_count": 19,
   "metadata": {},
   "outputs": [
    {
     "data": {
      "text/plain": [
       "<matplotlib.axes._subplots.AxesSubplot at 0x2792089e5f8>"
      ]
     },
     "execution_count": 19,
     "metadata": {},
     "output_type": "execute_result"
    },
    {
     "data": {
      "image/png": "[encoded data removed]",
      "text/plain": [
       "<Figure size 432x288 with 1 Axes>"
      ]
     },
     "metadata": {
      "needs_background": "light"
     },
     "output_type": "display_data"
    }
   ],
   "source": [
    "sns.barplot(x=\"Type\",y=\"Temperature\",data=sales)"
   ]
  },
  {
   "cell_type": "code",
   "execution_count": 20,
   "metadata": {
    "scrolled": true
   },
   "outputs": [
    {
     "data": {
      "text/plain": [
       "<matplotlib.axes._subplots.AxesSubplot at 0x279209099b0>"
      ]
     },
     "execution_count": 20,
     "metadata": {},
     "output_type": "execute_result"
    },
    {
     "data": {
      "image/png": "[encoded data removed]",
      "text/plain": [
       "<Figure size 432x288 with 1 Axes>"
      ]
     },
     "metadata": {
      "needs_background": "light"
     },
     "output_type": "display_data"
    }
   ],
   "source": [
    "sns.barplot(x=\"Type\",y=\"Unemployment\",data=sales)"
   ]
  },
  {
   "cell_type": "code",
   "execution_count": 21,
   "metadata": {},
   "outputs": [
    {
     "data": {
      "text/plain": [
       "<matplotlib.axes._subplots.AxesSubplot at 0x27921a40400>"
      ]
     },
     "execution_count": 21,
     "metadata": {},
     "output_type": "execute_result"
    },
    {
     "data": {
      "image/png": "[encoded data removed]",
      "text/plain": [
       "<Figure size 432x288 with 1 Axes>"
      ]
     },
     "metadata": {
      "needs_background": "light"
     },
     "output_type": "display_data"
    }
   ],
   "source": [
    "sns.barplot(x=\"Type\",y=\"CPI\",data=sales)"
   ]
  },
  {
   "cell_type": "code",
   "execution_count": 22,
   "metadata": {},
   "outputs": [
    {
     "data": {
      "text/plain": [
       "<matplotlib.axes._subplots.AxesSubplot at 0x27921aa8470>"
      ]
     },
     "execution_count": 22,
     "metadata": {},
     "output_type": "execute_result"
    },
    {
     "data": {
      "image/png": "[encoded data removed]",
      "text/plain": [
       "<Figure size 432x288 with 1 Axes>"
      ]
     },
     "metadata": {
      "needs_background": "light"
     },
     "output_type": "display_data"
    }
   ],
   "source": [
    "sns.barplot(x=\"Type\",y=\"Fuel_Price\",data=sales)"
   ]
  },
  {
   "cell_type": "code",
   "execution_count": 23,
   "metadata": {},
   "outputs": [
    {
     "data": {
      "text/plain": [
       "[]"
      ]
     },
     "execution_count": 23,
     "metadata": {},
     "output_type": "execute_result"
    },
    {
     "data": {
      "image/png": "[encoded data removed]",
      "text/plain": [
       "<Figure size 1080x720 with 2 Axes>"
      ]
     },
     "metadata": {
      "needs_background": "light"
     },
     "output_type": "display_data"
    }
   ],
   "source": [
    "corr = sales.corr()\n",
    "plt.figure(figsize=(15, 10))\n",
    "sns.heatmap(corr, annot=True)\n",
    "plt.plot()"
   ]
  },
  {
   "cell_type": "code",
   "execution_count": 24,
   "metadata": {},
   "outputs": [
    {
     "data": {
      "image/png": "[encoded data removed]",
      "text/plain": [
       "<Figure size 576x432 with 1 Axes>"
      ]
     },
     "metadata": {
      "needs_background": "light"
     },
     "output_type": "display_data"
    }
   ],
   "source": [
    "type_size = pd.concat([sales['Type'], sales['Size']], axis=1)\n",
    "f, ax = plt.subplots(figsize=(8, 6))\n",
    "fig = sns.boxplot(x='Type', y='Size', data=type_size)"
   ]
  },
  {
   "cell_type": "code",
   "execution_count": 25,
   "metadata": {},
   "outputs": [
    {
     "data": {
      "text/plain": [
       "<seaborn.axisgrid.PairGrid at 0x27921a76898>"
      ]
     },
     "execution_count": 25,
     "metadata": {},
     "output_type": "execute_result"
    },
    {
     "data": {
      "image/png": "[encoded data removed]",
      "text/plain": [
       "<Figure size 540x540 with 12 Axes>"
      ]
     },
     "metadata": {
      "needs_background": "light"
     },
     "output_type": "display_data"
    }
   ],
   "source": [
    "sns.pairplot(sales, vars = ['Store','Type','Size'])"
   ]
  },
  {
   "cell_type": "code",
   "execution_count": 26,
   "metadata": {},
   "outputs": [],
   "source": [
    "cols = ['Temperature','Fuel_Price','MarkDown1','MarkDown2','MarkDown3','MarkDown4','MarkDown5','CPI','Unemployment','Type','Size','Store','Dept','IsHoliday']\n",
    "sales.drop(cols,axis=1,inplace=True)"
   ]
  },
  {
   "cell_type": "code",
   "execution_count": 27,
   "metadata": {},
   "outputs": [
    {
     "data": {
      "text/html": [
       "<div>\n",
       "<style scoped>\n",
       "    .dataframe tbody tr th:only-of-type {\n",
       "        vertical-align: middle;\n",
       "    }\n",
       "\n",
       "    .dataframe tbody tr th {\n",
       "        vertical-align: top;\n",
       "    }\n",
       "\n",
       "    .dataframe thead th {\n",
       "        text-align: right;\n",
       "    }\n",
       "</style>\n",
       "<table border=\"1\" class=\"dataframe\">\n",
       "  <thead>\n",
       "    <tr style=\"text-align: right;\">\n",
       "      <th></th>\n",
       "      <th>Date</th>\n",
       "      <th>Weekly_Sales</th>\n",
       "    </tr>\n",
       "  </thead>\n",
       "  <tbody>\n",
       "    <tr>\n",
       "      <th>0</th>\n",
       "      <td>2010-05-02</td>\n",
       "      <td>24924.50</td>\n",
       "    </tr>\n",
       "    <tr>\n",
       "      <th>1</th>\n",
       "      <td>2010-12-02</td>\n",
       "      <td>46039.49</td>\n",
       "    </tr>\n",
       "    <tr>\n",
       "      <th>2</th>\n",
       "      <td>2010-02-19</td>\n",
       "      <td>41595.55</td>\n",
       "    </tr>\n",
       "    <tr>\n",
       "      <th>3</th>\n",
       "      <td>2010-02-26</td>\n",
       "      <td>19403.54</td>\n",
       "    </tr>\n",
       "    <tr>\n",
       "      <th>4</th>\n",
       "      <td>2010-05-03</td>\n",
       "      <td>21827.90</td>\n",
       "    </tr>\n",
       "  </tbody>\n",
       "</table>\n",
       "</div>"
      ],
      "text/plain": [
       "         Date  Weekly_Sales\n",
       "0  2010-05-02      24924.50\n",
       "1  2010-12-02      46039.49\n",
       "2  2010-02-19      41595.55\n",
       "3  2010-02-26      19403.54\n",
       "4  2010-05-03      21827.90"
      ]
     },
     "execution_count": 27,
     "metadata": {},
     "output_type": "execute_result"
    }
   ],
   "source": [
    "sales.head()"
   ]
  },
  {
   "cell_type": "code",
   "execution_count": 28,
   "metadata": {},
   "outputs": [
    {
     "data": {
      "text/plain": [
       "(421570, 2)"
      ]
     },
     "execution_count": 28,
     "metadata": {},
     "output_type": "execute_result"
    }
   ],
   "source": [
    "sales.shape"
   ]
  },
  {
   "cell_type": "code",
   "execution_count": 29,
   "metadata": {},
   "outputs": [],
   "source": [
    "sales.to_csv(r'C:\\Users\\NEELESH\\Desktop\\Time Series Analysis\\cleaned_sales_data.csv', index = False)"
   ]
  },
  {
   "cell_type": "code",
   "execution_count": 30,
   "metadata": {},
   "outputs": [],
   "source": [
    "sales = pd.read_csv('cleaned_sales_data.csv',parse_dates=['Date'],index_col=\"Date\")"
   ]
  },
  {
   "cell_type": "code",
   "execution_count": 31,
   "metadata": {},
   "outputs": [
    {
     "data": {
      "text/html": [
       "<div>\n",
       "<style scoped>\n",
       "    .dataframe tbody tr th:only-of-type {\n",
       "        vertical-align: middle;\n",
       "    }\n",
       "\n",
       "    .dataframe tbody tr th {\n",
       "        vertical-align: top;\n",
       "    }\n",
       "\n",
       "    .dataframe thead th {\n",
       "        text-align: right;\n",
       "    }\n",
       "</style>\n",
       "<table border=\"1\" class=\"dataframe\">\n",
       "  <thead>\n",
       "    <tr style=\"text-align: right;\">\n",
       "      <th></th>\n",
       "      <th>Weekly_Sales</th>\n",
       "    </tr>\n",
       "    <tr>\n",
       "      <th>Date</th>\n",
       "      <th></th>\n",
       "    </tr>\n",
       "  </thead>\n",
       "  <tbody>\n",
       "    <tr>\n",
       "      <th>2010-05-02</th>\n",
       "      <td>24924.50</td>\n",
       "    </tr>\n",
       "    <tr>\n",
       "      <th>2010-12-02</th>\n",
       "      <td>46039.49</td>\n",
       "    </tr>\n",
       "    <tr>\n",
       "      <th>2010-02-19</th>\n",
       "      <td>41595.55</td>\n",
       "    </tr>\n",
       "    <tr>\n",
       "      <th>2010-02-26</th>\n",
       "      <td>19403.54</td>\n",
       "    </tr>\n",
       "    <tr>\n",
       "      <th>2010-05-03</th>\n",
       "      <td>21827.90</td>\n",
       "    </tr>\n",
       "  </tbody>\n",
       "</table>\n",
       "</div>"
      ],
      "text/plain": [
       "            Weekly_Sales\n",
       "Date                    \n",
       "2010-05-02      24924.50\n",
       "2010-12-02      46039.49\n",
       "2010-02-19      41595.55\n",
       "2010-02-26      19403.54\n",
       "2010-05-03      21827.90"
      ]
     },
     "execution_count": 31,
     "metadata": {},
     "output_type": "execute_result"
    }
   ],
   "source": [
    "sales.head()"
   ]
  },
  {
   "cell_type": "markdown",
   "metadata": {},
   "source": [
    "###### Dates of prominent holidays from '2010-01-10' to '2012-12-10': \n",
    "Super Bowl - 2010-02-07, 2011-02-07, 2012-02-06\n",
    "\n",
    "Labor Day - 2010-09-06, 2011-09-05, 2012-09-03\n",
    "\n",
    "Thanksgiving - 2010-11-25, 2011-11-24, 2012-11-22\n",
    "\n",
    "Christmas - 2010-12-25, 2011-12-25, 2012-12-25"
   ]
  },
  {
   "cell_type": "code",
   "execution_count": 32,
   "metadata": {},
   "outputs": [
    {
     "name": "stdout",
     "output_type": "stream",
     "text": [
      "Number of purchases in the Super Bowl week is 8856\n"
     ]
    }
   ],
   "source": [
    "a = sales[\"2010-02-01\":\"2010-02-07\"].shape\n",
    "b = sales[\"2011-02-01\":\"2011-02-07\"].shape\n",
    "c = sales[\"2012-01-31\":\"2012-02-06\"].shape\n",
    "a[0] + b[0] + c[0]\n",
    "print(\"Number of purchases in the Super Bowl week is\",a[0] + b[0] + c[0])"
   ]
  },
  {
   "cell_type": "code",
   "execution_count": 33,
   "metadata": {},
   "outputs": [
    {
     "name": "stdout",
     "output_type": "stream",
     "text": [
      "Number of purchases in the Labor Day week is 2951\n"
     ]
    }
   ],
   "source": [
    "#Labor Day - 2010-09-06, 2011-09-05, 2012-09-03\n",
    "a = sales[\"2010-08-31\":\"2010-09-06\"].shape\n",
    "b = sales[\"2011-08-29\":\"2011-09-05\"].shape\n",
    "c = sales[\"2012-08-27\":\"2012-02-03\"].shape\n",
    "a[0] + b[0] + c[0]\n",
    "print(\"Number of purchases in the Labor Day week is\",a[0] + b[0] + c[0])"
   ]
  },
  {
   "cell_type": "code",
   "execution_count": 34,
   "metadata": {},
   "outputs": [
    {
     "name": "stdout",
     "output_type": "stream",
     "text": [
      "Number of purchases in the Thanksgiving week is 5877\n"
     ]
    }
   ],
   "source": [
    "a = sales[\"2010-11-18\":\"2010-11-25\"].shape\n",
    "b = sales[\"2011-11-17\":\"2011-11-24\"].shape\n",
    "c = sales[\"2012-11-15\":\"2012-11-22\"].shape\n",
    "print(\"Number of purchases in the Thanksgiving week is\",a[0] + b[0] + c[0])"
   ]
  },
  {
   "cell_type": "code",
   "execution_count": 35,
   "metadata": {},
   "outputs": [
    {
     "name": "stdout",
     "output_type": "stream",
     "text": [
      "Number of purchases in the Christmas week is 5983\n"
     ]
    }
   ],
   "source": [
    "#Christmas - 2010-12-25, 2011-12-25, 2012-12-25\n",
    "a = sales[\"2010-12-18\":\"2010-12-25\"].shape\n",
    "b = sales[\"2011-12-18\":\"2011-12-25\"].shape\n",
    "c = sales[\"2012-12-18\":\"2012-12-25\"].shape\n",
    "a[0] + b[0] + c[0]\n",
    "print(\"Number of purchases in the Christmas week is\",a[0] + b[0] + c[0])"
   ]
  },
  {
   "cell_type": "code",
   "execution_count": 36,
   "metadata": {},
   "outputs": [
    {
     "data": {
      "text/plain": [
       "<matplotlib.axes._subplots.AxesSubplot at 0x27921ed6048>"
      ]
     },
     "execution_count": 36,
     "metadata": {},
     "output_type": "execute_result"
    },
    {
     "data": {
      "image/png": "[encoded data removed]",
      "text/plain": [
       "<Figure size 432x288 with 1 Axes>"
      ]
     },
     "metadata": {
      "needs_background": "light"
     },
     "output_type": "display_data"
    }
   ],
   "source": [
    "sales.plot()"
   ]
  },
  {
   "cell_type": "code",
   "execution_count": 37,
   "metadata": {},
   "outputs": [
    {
     "data": {
      "text/plain": [
       "<matplotlib.axes._subplots.AxesSubplot at 0x27921dd7160>"
      ]
     },
     "execution_count": 37,
     "metadata": {},
     "output_type": "execute_result"
    },
    {
     "data": {
      "image/png": "[encoded data removed]",
      "text/plain": [
       "<Figure size 432x288 with 1 Axes>"
      ]
     },
     "metadata": {
      "needs_background": "light"
     },
     "output_type": "display_data"
    }
   ],
   "source": [
    "sales.Weekly_Sales.resample('M').mean().plot()"
   ]
  },
  {
   "cell_type": "code",
   "execution_count": 38,
   "metadata": {},
   "outputs": [
    {
     "data": {
      "text/plain": [
       "<matplotlib.axes._subplots.AxesSubplot at 0x2792df65c18>"
      ]
     },
     "execution_count": 38,
     "metadata": {},
     "output_type": "execute_result"
    },
    {
     "data": {
      "image/png": "[encoded data removed]",
      "text/plain": [
       "<Figure size 432x288 with 1 Axes>"
      ]
     },
     "metadata": {
      "needs_background": "light"
     },
     "output_type": "display_data"
    }
   ],
   "source": [
    "sales.Weekly_Sales.resample('Q').mean().plot()"
   ]
  },
  {
   "cell_type": "code",
   "execution_count": 39,
   "metadata": {},
   "outputs": [],
   "source": [
    "sales = sales.Weekly_Sales.resample('M').mean()"
   ]
  },
  {
   "cell_type": "code",
   "execution_count": 40,
   "metadata": {},
   "outputs": [
    {
     "data": {
      "image/png": "[encoded data removed]",
      "text/plain": [
       "<Figure size 432x288 with 1 Axes>"
      ]
     },
     "execution_count": 40,
     "metadata": {},
     "output_type": "execute_result"
    },
    {
     "data": {
      "image/png": "[encoded data removed]",
      "text/plain": [
       "<Figure size 432x288 with 1 Axes>"
      ]
     },
     "metadata": {
      "needs_background": "light"
     },
     "output_type": "display_data"
    }
   ],
   "source": [
    "from statsmodels.graphics.tsaplots import plot_acf\n",
    "plot_acf(sales)"
   ]
  },
  {
   "cell_type": "code",
   "execution_count": 41,
   "metadata": {},
   "outputs": [
    {
     "data": {
      "text/plain": [
       "Date\n",
       "2010-01-31    14391.780535\n",
       "2010-02-28    16244.436211\n",
       "2010-03-31    15828.833079\n",
       "2010-04-30    15701.015586\n",
       "2010-05-31    15971.989499\n",
       "Freq: M, Name: Weekly_Sales, dtype: float64"
      ]
     },
     "execution_count": 41,
     "metadata": {},
     "output_type": "execute_result"
    }
   ],
   "source": [
    "sales.head()"
   ]
  },
  {
   "cell_type": "code",
   "execution_count": 42,
   "metadata": {},
   "outputs": [
    {
     "data": {
      "text/plain": [
       "Date\n",
       "2010-01-31             NaN\n",
       "2010-02-28    14391.780535\n",
       "2010-03-31    16244.436211\n",
       "2010-04-30    15828.833079\n",
       "2010-05-31    15701.015586\n",
       "2010-06-30    15971.989499\n",
       "2010-07-31    16278.409330\n",
       "2010-08-31    15785.689680\n",
       "2010-09-30    15866.055025\n",
       "2010-10-31    15339.655205\n",
       "2010-11-30    15742.806495\n",
       "2010-12-31    18118.582008\n",
       "2011-01-31    18285.014095\n",
       "2011-02-28    14471.611234\n",
       "2011-03-31    15872.183056\n",
       "2011-04-30    15490.811225\n",
       "2011-05-31    15762.759190\n",
       "2011-06-30    15524.557693\n",
       "2011-07-31    15839.296649\n",
       "2011-08-31    15324.714393\n",
       "2011-09-30    15979.696402\n",
       "2011-10-31    15587.117990\n",
       "2011-11-30    15587.928852\n",
       "2011-12-31    17069.858089\n",
       "2012-01-31    19154.569311\n",
       "2012-02-29    14570.279140\n",
       "2012-03-31    15944.362413\n",
       "2012-04-30    15558.979707\n",
       "2012-05-31    15390.168452\n",
       "2012-06-30    16040.929182\n",
       "2012-07-31    16456.816992\n",
       "2012-08-31    15638.946864\n",
       "2012-09-30    16187.597099\n",
       "2012-10-31    15157.303934\n",
       "2012-11-30    15848.941251\n",
       "2012-12-31    15784.015806\n",
       "Freq: M, Name: Weekly_Sales, dtype: float64"
      ]
     },
     "execution_count": 42,
     "metadata": {},
     "output_type": "execute_result"
    }
   ],
   "source": [
    "sales.shift(1)"
   ]
  },
  {
   "cell_type": "code",
   "execution_count": 43,
   "metadata": {},
   "outputs": [],
   "source": [
    "sales_diff = sales.diff(periods=1)"
   ]
  },
  {
   "cell_type": "code",
   "execution_count": 44,
   "metadata": {},
   "outputs": [
    {
     "data": {
      "text/plain": [
       "Date\n",
       "2010-02-28    1852.655676\n",
       "2010-03-31    -415.603131\n",
       "2010-04-30    -127.817493\n",
       "2010-05-31     270.973913\n",
       "2010-06-30     306.419831\n",
       "Freq: M, Name: Weekly_Sales, dtype: float64"
      ]
     },
     "execution_count": 44,
     "metadata": {},
     "output_type": "execute_result"
    }
   ],
   "source": [
    "sales_diff = sales_diff[1:]\n",
    "sales_diff.head()"
   ]
  },
  {
   "cell_type": "code",
   "execution_count": 45,
   "metadata": {},
   "outputs": [
    {
     "data": {
      "image/png": "[encoded data removed]",
      "text/plain": [
       "<Figure size 432x288 with 1 Axes>"
      ]
     },
     "execution_count": 45,
     "metadata": {},
     "output_type": "execute_result"
    },
    {
     "data": {
      "image/png": "[encoded data removed]",
      "text/plain": [
       "<Figure size 432x288 with 1 Axes>"
      ]
     },
     "metadata": {
      "needs_background": "light"
     },
     "output_type": "display_data"
    }
   ],
   "source": [
    "plot_acf(sales_diff)"
   ]
  },
  {
   "cell_type": "code",
   "execution_count": 46,
   "metadata": {},
   "outputs": [
    {
     "data": {
      "text/plain": [
       "<matplotlib.axes._subplots.AxesSubplot at 0x2792d6eae10>"
      ]
     },
     "execution_count": 46,
     "metadata": {},
     "output_type": "execute_result"
    },
    {
     "data": {
      "image/png": "[encoded data removed]",
      "text/plain": [
       "<Figure size 432x288 with 1 Axes>"
      ]
     },
     "metadata": {
      "needs_background": "light"
     },
     "output_type": "display_data"
    }
   ],
   "source": [
    "sales_diff.plot()"
   ]
  },
  {
   "cell_type": "code",
   "execution_count": 47,
   "metadata": {},
   "outputs": [],
   "source": [
    "X = sales.values\n",
    "train = X[0:27] # 27 data as train data\n",
    "test = X[26:]  # 9 data as test data\n",
    "predictions = []"
   ]
  },
  {
   "cell_type": "code",
   "execution_count": 48,
   "metadata": {},
   "outputs": [
    {
     "data": {
      "text/plain": [
       "27"
      ]
     },
     "execution_count": 48,
     "metadata": {},
     "output_type": "execute_result"
    }
   ],
   "source": [
    "train.size"
   ]
  },
  {
   "cell_type": "code",
   "execution_count": 49,
   "metadata": {},
   "outputs": [],
   "source": [
    "from statsmodels.tsa.ar_model import AR\n",
    "from sklearn.metrics import mean_squared_error\n",
    "model_ar = AR(train)\n",
    "model_ar_fit = model_ar.fit()"
   ]
  },
  {
   "cell_type": "code",
   "execution_count": 50,
   "metadata": {},
   "outputs": [],
   "source": [
    "predictions = model_ar_fit.predict(start=26,end=36)"
   ]
  },
  {
   "cell_type": "code",
   "execution_count": 51,
   "metadata": {},
   "outputs": [
    {
     "data": {
      "text/plain": [
       "array([15558.97970735, 15390.16845207, 16040.92918151, 16456.81699161,\n",
       "       15638.94686351, 16187.59709893, 15157.30393441, 15848.94125053,\n",
       "       15784.01580558, 15427.59673913])"
      ]
     },
     "execution_count": 51,
     "metadata": {},
     "output_type": "execute_result"
    }
   ],
   "source": [
    "test"
   ]
  },
  {
   "cell_type": "code",
   "execution_count": 52,
   "metadata": {},
   "outputs": [
    {
     "data": {
      "text/plain": [
       "[<matplotlib.lines.Line2D at 0x2792fda9048>]"
      ]
     },
     "execution_count": 52,
     "metadata": {},
     "output_type": "execute_result"
    },
    {
     "data": {
      "image/png": "[encoded data removed]",
      "text/plain": [
       "<Figure size 432x288 with 1 Axes>"
      ]
     },
     "metadata": {
      "needs_background": "light"
     },
     "output_type": "display_data"
    }
   ],
   "source": [
    "plt.plot(test)\n",
    "plt.plot(predictions,color='red')"
   ]
  },
  {
   "cell_type": "code",
   "execution_count": 53,
   "metadata": {},
   "outputs": [
    {
     "data": {
      "text/plain": [
       "<matplotlib.axes._subplots.AxesSubplot at 0x2792fdd6c88>"
      ]
     },
     "execution_count": 53,
     "metadata": {},
     "output_type": "execute_result"
    },
    {
     "data": {
      "image/png": "[encoded data removed]",
      "text/plain": [
       "<Figure size 432x288 with 1 Axes>"
      ]
     },
     "metadata": {
      "needs_background": "light"
     },
     "output_type": "display_data"
    }
   ],
   "source": [
    "sales.plot()"
   ]
  },
  {
   "cell_type": "code",
   "execution_count": 54,
   "metadata": {},
   "outputs": [],
   "source": [
    "from statsmodels.tsa.arima_model import ARIMA"
   ]
  },
  {
   "cell_type": "code",
   "execution_count": 55,
   "metadata": {},
   "outputs": [
    {
     "name": "stdout",
     "output_type": "stream",
     "text": [
      "444.0351576221012\n"
     ]
    }
   ],
   "source": [
    "#p,d,q  p = periods taken for autoregressive model\n",
    "#d -> Integrated order, difference\n",
    "# q periods in moving average model\n",
    "model_arima = ARIMA(train,order=(2, 2, 1))\n",
    "model_arima_fit = model_arima.fit()\n",
    "print(model_arima_fit.aic)"
   ]
  },
  {
   "cell_type": "code",
   "execution_count": 56,
   "metadata": {},
   "outputs": [
    {
     "data": {
      "text/plain": [
       "[(0, 0, 0),\n",
       " (0, 0, 1),\n",
       " (0, 0, 2),\n",
       " (0, 0, 3),\n",
       " (0, 0, 4),\n",
       " (0, 0, 5),\n",
       " (0, 0, 6),\n",
       " (0, 0, 7),\n",
       " (0, 0, 8),\n",
       " (0, 0, 9),\n",
       " (0, 1, 0),\n",
       " (0, 1, 1),\n",
       " (0, 1, 2),\n",
       " (0, 1, 3),\n",
       " (0, 1, 4),\n",
       " (0, 1, 5),\n",
       " (0, 1, 6),\n",
       " (0, 1, 7),\n",
       " (0, 1, 8),\n",
       " (0, 1, 9),\n",
       " (0, 2, 0),\n",
       " (0, 2, 1),\n",
       " (0, 2, 2),\n",
       " (0, 2, 3),\n",
       " (0, 2, 4),\n",
       " (0, 2, 5),\n",
       " (0, 2, 6),\n",
       " (0, 2, 7),\n",
       " (0, 2, 8),\n",
       " (0, 2, 9),\n",
       " (0, 3, 0),\n",
       " (0, 3, 1),\n",
       " (0, 3, 2),\n",
       " (0, 3, 3),\n",
       " (0, 3, 4),\n",
       " (0, 3, 5),\n",
       " (0, 3, 6),\n",
       " (0, 3, 7),\n",
       " (0, 3, 8),\n",
       " (0, 3, 9),\n",
       " (0, 4, 0),\n",
       " (0, 4, 1),\n",
       " (0, 4, 2),\n",
       " (0, 4, 3),\n",
       " (0, 4, 4),\n",
       " (0, 4, 5),\n",
       " (0, 4, 6),\n",
       " (0, 4, 7),\n",
       " (0, 4, 8),\n",
       " (0, 4, 9),\n",
       " (0, 5, 0),\n",
       " (0, 5, 1),\n",
       " (0, 5, 2),\n",
       " (0, 5, 3),\n",
       " (0, 5, 4),\n",
       " (0, 5, 5),\n",
       " (0, 5, 6),\n",
       " (0, 5, 7),\n",
       " (0, 5, 8),\n",
       " (0, 5, 9),\n",
       " (0, 6, 0),\n",
       " (0, 6, 1),\n",
       " (0, 6, 2),\n",
       " (0, 6, 3),\n",
       " (0, 6, 4),\n",
       " (0, 6, 5),\n",
       " (0, 6, 6),\n",
       " (0, 6, 7),\n",
       " (0, 6, 8),\n",
       " (0, 6, 9),\n",
       " (0, 7, 0),\n",
       " (0, 7, 1),\n",
       " (0, 7, 2),\n",
       " (0, 7, 3),\n",
       " (0, 7, 4),\n",
       " (0, 7, 5),\n",
       " (0, 7, 6),\n",
       " (0, 7, 7),\n",
       " (0, 7, 8),\n",
       " (0, 7, 9),\n",
       " (0, 8, 0),\n",
       " (0, 8, 1),\n",
       " (0, 8, 2),\n",
       " (0, 8, 3),\n",
       " (0, 8, 4),\n",
       " (0, 8, 5),\n",
       " (0, 8, 6),\n",
       " (0, 8, 7),\n",
       " (0, 8, 8),\n",
       " (0, 8, 9),\n",
       " (0, 9, 0),\n",
       " (0, 9, 1),\n",
       " (0, 9, 2),\n",
       " (0, 9, 3),\n",
       " (0, 9, 4),\n",
       " (0, 9, 5),\n",
       " (0, 9, 6),\n",
       " (0, 9, 7),\n",
       " (0, 9, 8),\n",
       " (0, 9, 9),\n",
       " (1, 0, 0),\n",
       " (1, 0, 1),\n",
       " (1, 0, 2),\n",
       " (1, 0, 3),\n",
       " (1, 0, 4),\n",
       " (1, 0, 5),\n",
       " (1, 0, 6),\n",
       " (1, 0, 7),\n",
       " (1, 0, 8),\n",
       " (1, 0, 9),\n",
       " (1, 1, 0),\n",
       " (1, 1, 1),\n",
       " (1, 1, 2),\n",
       " (1, 1, 3),\n",
       " (1, 1, 4),\n",
       " (1, 1, 5),\n",
       " (1, 1, 6),\n",
       " (1, 1, 7),\n",
       " (1, 1, 8),\n",
       " (1, 1, 9),\n",
       " (1, 2, 0),\n",
       " (1, 2, 1),\n",
       " (1, 2, 2),\n",
       " (1, 2, 3),\n",
       " (1, 2, 4),\n",
       " (1, 2, 5),\n",
       " (1, 2, 6),\n",
       " (1, 2, 7),\n",
       " (1, 2, 8),\n",
       " (1, 2, 9),\n",
       " (1, 3, 0),\n",
       " (1, 3, 1),\n",
       " (1, 3, 2),\n",
       " (1, 3, 3),\n",
       " (1, 3, 4),\n",
       " (1, 3, 5),\n",
       " (1, 3, 6),\n",
       " (1, 3, 7),\n",
       " (1, 3, 8),\n",
       " (1, 3, 9),\n",
       " (1, 4, 0),\n",
       " (1, 4, 1),\n",
       " (1, 4, 2),\n",
       " (1, 4, 3),\n",
       " (1, 4, 4),\n",
       " (1, 4, 5),\n",
       " (1, 4, 6),\n",
       " (1, 4, 7),\n",
       " (1, 4, 8),\n",
       " (1, 4, 9),\n",
       " (1, 5, 0),\n",
       " (1, 5, 1),\n",
       " (1, 5, 2),\n",
       " (1, 5, 3),\n",
       " (1, 5, 4),\n",
       " (1, 5, 5),\n",
       " (1, 5, 6),\n",
       " (1, 5, 7),\n",
       " (1, 5, 8),\n",
       " (1, 5, 9),\n",
       " (1, 6, 0),\n",
       " (1, 6, 1),\n",
       " (1, 6, 2),\n",
       " (1, 6, 3),\n",
       " (1, 6, 4),\n",
       " (1, 6, 5),\n",
       " (1, 6, 6),\n",
       " (1, 6, 7),\n",
       " (1, 6, 8),\n",
       " (1, 6, 9),\n",
       " (1, 7, 0),\n",
       " (1, 7, 1),\n",
       " (1, 7, 2),\n",
       " (1, 7, 3),\n",
       " (1, 7, 4),\n",
       " (1, 7, 5),\n",
       " (1, 7, 6),\n",
       " (1, 7, 7),\n",
       " (1, 7, 8),\n",
       " (1, 7, 9),\n",
       " (1, 8, 0),\n",
       " (1, 8, 1),\n",
       " (1, 8, 2),\n",
       " (1, 8, 3),\n",
       " (1, 8, 4),\n",
       " (1, 8, 5),\n",
       " (1, 8, 6),\n",
       " (1, 8, 7),\n",
       " (1, 8, 8),\n",
       " (1, 8, 9),\n",
       " (1, 9, 0),\n",
       " (1, 9, 1),\n",
       " (1, 9, 2),\n",
       " (1, 9, 3),\n",
       " (1, 9, 4),\n",
       " (1, 9, 5),\n",
       " (1, 9, 6),\n",
       " (1, 9, 7),\n",
       " (1, 9, 8),\n",
       " (1, 9, 9),\n",
       " (2, 0, 0),\n",
       " (2, 0, 1),\n",
       " (2, 0, 2),\n",
       " (2, 0, 3),\n",
       " (2, 0, 4),\n",
       " (2, 0, 5),\n",
       " (2, 0, 6),\n",
       " (2, 0, 7),\n",
       " (2, 0, 8),\n",
       " (2, 0, 9),\n",
       " (2, 1, 0),\n",
       " (2, 1, 1),\n",
       " (2, 1, 2),\n",
       " (2, 1, 3),\n",
       " (2, 1, 4),\n",
       " (2, 1, 5),\n",
       " (2, 1, 6),\n",
       " (2, 1, 7),\n",
       " (2, 1, 8),\n",
       " (2, 1, 9),\n",
       " (2, 2, 0),\n",
       " (2, 2, 1),\n",
       " (2, 2, 2),\n",
       " (2, 2, 3),\n",
       " (2, 2, 4),\n",
       " (2, 2, 5),\n",
       " (2, 2, 6),\n",
       " (2, 2, 7),\n",
       " (2, 2, 8),\n",
       " (2, 2, 9),\n",
       " (2, 3, 0),\n",
       " (2, 3, 1),\n",
       " (2, 3, 2),\n",
       " (2, 3, 3),\n",
       " (2, 3, 4),\n",
       " (2, 3, 5),\n",
       " (2, 3, 6),\n",
       " (2, 3, 7),\n",
       " (2, 3, 8),\n",
       " (2, 3, 9),\n",
       " (2, 4, 0),\n",
       " (2, 4, 1),\n",
       " (2, 4, 2),\n",
       " (2, 4, 3),\n",
       " (2, 4, 4),\n",
       " (2, 4, 5),\n",
       " (2, 4, 6),\n",
       " (2, 4, 7),\n",
       " (2, 4, 8),\n",
       " (2, 4, 9),\n",
       " (2, 5, 0),\n",
       " (2, 5, 1),\n",
       " (2, 5, 2),\n",
       " (2, 5, 3),\n",
       " (2, 5, 4),\n",
       " (2, 5, 5),\n",
       " (2, 5, 6),\n",
       " (2, 5, 7),\n",
       " (2, 5, 8),\n",
       " (2, 5, 9),\n",
       " (2, 6, 0),\n",
       " (2, 6, 1),\n",
       " (2, 6, 2),\n",
       " (2, 6, 3),\n",
       " (2, 6, 4),\n",
       " (2, 6, 5),\n",
       " (2, 6, 6),\n",
       " (2, 6, 7),\n",
       " (2, 6, 8),\n",
       " (2, 6, 9),\n",
       " (2, 7, 0),\n",
       " (2, 7, 1),\n",
       " (2, 7, 2),\n",
       " (2, 7, 3),\n",
       " (2, 7, 4),\n",
       " (2, 7, 5),\n",
       " (2, 7, 6),\n",
       " (2, 7, 7),\n",
       " (2, 7, 8),\n",
       " (2, 7, 9),\n",
       " (2, 8, 0),\n",
       " (2, 8, 1),\n",
       " (2, 8, 2),\n",
       " (2, 8, 3),\n",
       " (2, 8, 4),\n",
       " (2, 8, 5),\n",
       " (2, 8, 6),\n",
       " (2, 8, 7),\n",
       " (2, 8, 8),\n",
       " (2, 8, 9),\n",
       " (2, 9, 0),\n",
       " (2, 9, 1),\n",
       " (2, 9, 2),\n",
       " (2, 9, 3),\n",
       " (2, 9, 4),\n",
       " (2, 9, 5),\n",
       " (2, 9, 6),\n",
       " (2, 9, 7),\n",
       " (2, 9, 8),\n",
       " (2, 9, 9),\n",
       " (3, 0, 0),\n",
       " (3, 0, 1),\n",
       " (3, 0, 2),\n",
       " (3, 0, 3),\n",
       " (3, 0, 4),\n",
       " (3, 0, 5),\n",
       " (3, 0, 6),\n",
       " (3, 0, 7),\n",
       " (3, 0, 8),\n",
       " (3, 0, 9),\n",
       " (3, 1, 0),\n",
       " (3, 1, 1),\n",
       " (3, 1, 2),\n",
       " (3, 1, 3),\n",
       " (3, 1, 4),\n",
       " (3, 1, 5),\n",
       " (3, 1, 6),\n",
       " (3, 1, 7),\n",
       " (3, 1, 8),\n",
       " (3, 1, 9),\n",
       " (3, 2, 0),\n",
       " (3, 2, 1),\n",
       " (3, 2, 2),\n",
       " (3, 2, 3),\n",
       " (3, 2, 4),\n",
       " (3, 2, 5),\n",
       " (3, 2, 6),\n",
       " (3, 2, 7),\n",
       " (3, 2, 8),\n",
       " (3, 2, 9),\n",
       " (3, 3, 0),\n",
       " (3, 3, 1),\n",
       " (3, 3, 2),\n",
       " (3, 3, 3),\n",
       " (3, 3, 4),\n",
       " (3, 3, 5),\n",
       " (3, 3, 6),\n",
       " (3, 3, 7),\n",
       " (3, 3, 8),\n",
       " (3, 3, 9),\n",
       " (3, 4, 0),\n",
       " (3, 4, 1),\n",
       " (3, 4, 2),\n",
       " (3, 4, 3),\n",
       " (3, 4, 4),\n",
       " (3, 4, 5),\n",
       " (3, 4, 6),\n",
       " (3, 4, 7),\n",
       " (3, 4, 8),\n",
       " (3, 4, 9),\n",
       " (3, 5, 0),\n",
       " (3, 5, 1),\n",
       " (3, 5, 2),\n",
       " (3, 5, 3),\n",
       " (3, 5, 4),\n",
       " (3, 5, 5),\n",
       " (3, 5, 6),\n",
       " (3, 5, 7),\n",
       " (3, 5, 8),\n",
       " (3, 5, 9),\n",
       " (3, 6, 0),\n",
       " (3, 6, 1),\n",
       " (3, 6, 2),\n",
       " (3, 6, 3),\n",
       " (3, 6, 4),\n",
       " (3, 6, 5),\n",
       " (3, 6, 6),\n",
       " (3, 6, 7),\n",
       " (3, 6, 8),\n",
       " (3, 6, 9),\n",
       " (3, 7, 0),\n",
       " (3, 7, 1),\n",
       " (3, 7, 2),\n",
       " (3, 7, 3),\n",
       " (3, 7, 4),\n",
       " (3, 7, 5),\n",
       " (3, 7, 6),\n",
       " (3, 7, 7),\n",
       " (3, 7, 8),\n",
       " (3, 7, 9),\n",
       " (3, 8, 0),\n",
       " (3, 8, 1),\n",
       " (3, 8, 2),\n",
       " (3, 8, 3),\n",
       " (3, 8, 4),\n",
       " (3, 8, 5),\n",
       " (3, 8, 6),\n",
       " (3, 8, 7),\n",
       " (3, 8, 8),\n",
       " (3, 8, 9),\n",
       " (3, 9, 0),\n",
       " (3, 9, 1),\n",
       " (3, 9, 2),\n",
       " (3, 9, 3),\n",
       " (3, 9, 4),\n",
       " (3, 9, 5),\n",
       " (3, 9, 6),\n",
       " (3, 9, 7),\n",
       " (3, 9, 8),\n",
       " (3, 9, 9),\n",
       " (4, 0, 0),\n",
       " (4, 0, 1),\n",
       " (4, 0, 2),\n",
       " (4, 0, 3),\n",
       " (4, 0, 4),\n",
       " (4, 0, 5),\n",
       " (4, 0, 6),\n",
       " (4, 0, 7),\n",
       " (4, 0, 8),\n",
       " (4, 0, 9),\n",
       " (4, 1, 0),\n",
       " (4, 1, 1),\n",
       " (4, 1, 2),\n",
       " (4, 1, 3),\n",
       " (4, 1, 4),\n",
       " (4, 1, 5),\n",
       " (4, 1, 6),\n",
       " (4, 1, 7),\n",
       " (4, 1, 8),\n",
       " (4, 1, 9),\n",
       " (4, 2, 0),\n",
       " (4, 2, 1),\n",
       " (4, 2, 2),\n",
       " (4, 2, 3),\n",
       " (4, 2, 4),\n",
       " (4, 2, 5),\n",
       " (4, 2, 6),\n",
       " (4, 2, 7),\n",
       " (4, 2, 8),\n",
       " (4, 2, 9),\n",
       " (4, 3, 0),\n",
       " (4, 3, 1),\n",
       " (4, 3, 2),\n",
       " (4, 3, 3),\n",
       " (4, 3, 4),\n",
       " (4, 3, 5),\n",
       " (4, 3, 6),\n",
       " (4, 3, 7),\n",
       " (4, 3, 8),\n",
       " (4, 3, 9),\n",
       " (4, 4, 0),\n",
       " (4, 4, 1),\n",
       " (4, 4, 2),\n",
       " (4, 4, 3),\n",
       " (4, 4, 4),\n",
       " (4, 4, 5),\n",
       " (4, 4, 6),\n",
       " (4, 4, 7),\n",
       " (4, 4, 8),\n",
       " (4, 4, 9),\n",
       " (4, 5, 0),\n",
       " (4, 5, 1),\n",
       " (4, 5, 2),\n",
       " (4, 5, 3),\n",
       " (4, 5, 4),\n",
       " (4, 5, 5),\n",
       " (4, 5, 6),\n",
       " (4, 5, 7),\n",
       " (4, 5, 8),\n",
       " (4, 5, 9),\n",
       " (4, 6, 0),\n",
       " (4, 6, 1),\n",
       " (4, 6, 2),\n",
       " (4, 6, 3),\n",
       " (4, 6, 4),\n",
       " (4, 6, 5),\n",
       " (4, 6, 6),\n",
       " (4, 6, 7),\n",
       " (4, 6, 8),\n",
       " (4, 6, 9),\n",
       " (4, 7, 0),\n",
       " (4, 7, 1),\n",
       " (4, 7, 2),\n",
       " (4, 7, 3),\n",
       " (4, 7, 4),\n",
       " (4, 7, 5),\n",
       " (4, 7, 6),\n",
       " (4, 7, 7),\n",
       " (4, 7, 8),\n",
       " (4, 7, 9),\n",
       " (4, 8, 0),\n",
       " (4, 8, 1),\n",
       " (4, 8, 2),\n",
       " (4, 8, 3),\n",
       " (4, 8, 4),\n",
       " (4, 8, 5),\n",
       " (4, 8, 6),\n",
       " (4, 8, 7),\n",
       " (4, 8, 8),\n",
       " (4, 8, 9),\n",
       " (4, 9, 0),\n",
       " (4, 9, 1),\n",
       " (4, 9, 2),\n",
       " (4, 9, 3),\n",
       " (4, 9, 4),\n",
       " (4, 9, 5),\n",
       " (4, 9, 6),\n",
       " (4, 9, 7),\n",
       " (4, 9, 8),\n",
       " (4, 9, 9),\n",
       " (5, 0, 0),\n",
       " (5, 0, 1),\n",
       " (5, 0, 2),\n",
       " (5, 0, 3),\n",
       " (5, 0, 4),\n",
       " (5, 0, 5),\n",
       " (5, 0, 6),\n",
       " (5, 0, 7),\n",
       " (5, 0, 8),\n",
       " (5, 0, 9),\n",
       " (5, 1, 0),\n",
       " (5, 1, 1),\n",
       " (5, 1, 2),\n",
       " (5, 1, 3),\n",
       " (5, 1, 4),\n",
       " (5, 1, 5),\n",
       " (5, 1, 6),\n",
       " (5, 1, 7),\n",
       " (5, 1, 8),\n",
       " (5, 1, 9),\n",
       " (5, 2, 0),\n",
       " (5, 2, 1),\n",
       " (5, 2, 2),\n",
       " (5, 2, 3),\n",
       " (5, 2, 4),\n",
       " (5, 2, 5),\n",
       " (5, 2, 6),\n",
       " (5, 2, 7),\n",
       " (5, 2, 8),\n",
       " (5, 2, 9),\n",
       " (5, 3, 0),\n",
       " (5, 3, 1),\n",
       " (5, 3, 2),\n",
       " (5, 3, 3),\n",
       " (5, 3, 4),\n",
       " (5, 3, 5),\n",
       " (5, 3, 6),\n",
       " (5, 3, 7),\n",
       " (5, 3, 8),\n",
       " (5, 3, 9),\n",
       " (5, 4, 0),\n",
       " (5, 4, 1),\n",
       " (5, 4, 2),\n",
       " (5, 4, 3),\n",
       " (5, 4, 4),\n",
       " (5, 4, 5),\n",
       " (5, 4, 6),\n",
       " (5, 4, 7),\n",
       " (5, 4, 8),\n",
       " (5, 4, 9),\n",
       " (5, 5, 0),\n",
       " (5, 5, 1),\n",
       " (5, 5, 2),\n",
       " (5, 5, 3),\n",
       " (5, 5, 4),\n",
       " (5, 5, 5),\n",
       " (5, 5, 6),\n",
       " (5, 5, 7),\n",
       " (5, 5, 8),\n",
       " (5, 5, 9),\n",
       " (5, 6, 0),\n",
       " (5, 6, 1),\n",
       " (5, 6, 2),\n",
       " (5, 6, 3),\n",
       " (5, 6, 4),\n",
       " (5, 6, 5),\n",
       " (5, 6, 6),\n",
       " (5, 6, 7),\n",
       " (5, 6, 8),\n",
       " (5, 6, 9),\n",
       " (5, 7, 0),\n",
       " (5, 7, 1),\n",
       " (5, 7, 2),\n",
       " (5, 7, 3),\n",
       " (5, 7, 4),\n",
       " (5, 7, 5),\n",
       " (5, 7, 6),\n",
       " (5, 7, 7),\n",
       " (5, 7, 8),\n",
       " (5, 7, 9),\n",
       " (5, 8, 0),\n",
       " (5, 8, 1),\n",
       " (5, 8, 2),\n",
       " (5, 8, 3),\n",
       " (5, 8, 4),\n",
       " (5, 8, 5),\n",
       " (5, 8, 6),\n",
       " (5, 8, 7),\n",
       " (5, 8, 8),\n",
       " (5, 8, 9),\n",
       " (5, 9, 0),\n",
       " (5, 9, 1),\n",
       " (5, 9, 2),\n",
       " (5, 9, 3),\n",
       " (5, 9, 4),\n",
       " (5, 9, 5),\n",
       " (5, 9, 6),\n",
       " (5, 9, 7),\n",
       " (5, 9, 8),\n",
       " (5, 9, 9),\n",
       " (6, 0, 0),\n",
       " (6, 0, 1),\n",
       " (6, 0, 2),\n",
       " (6, 0, 3),\n",
       " (6, 0, 4),\n",
       " (6, 0, 5),\n",
       " (6, 0, 6),\n",
       " (6, 0, 7),\n",
       " (6, 0, 8),\n",
       " (6, 0, 9),\n",
       " (6, 1, 0),\n",
       " (6, 1, 1),\n",
       " (6, 1, 2),\n",
       " (6, 1, 3),\n",
       " (6, 1, 4),\n",
       " (6, 1, 5),\n",
       " (6, 1, 6),\n",
       " (6, 1, 7),\n",
       " (6, 1, 8),\n",
       " (6, 1, 9),\n",
       " (6, 2, 0),\n",
       " (6, 2, 1),\n",
       " (6, 2, 2),\n",
       " (6, 2, 3),\n",
       " (6, 2, 4),\n",
       " (6, 2, 5),\n",
       " (6, 2, 6),\n",
       " (6, 2, 7),\n",
       " (6, 2, 8),\n",
       " (6, 2, 9),\n",
       " (6, 3, 0),\n",
       " (6, 3, 1),\n",
       " (6, 3, 2),\n",
       " (6, 3, 3),\n",
       " (6, 3, 4),\n",
       " (6, 3, 5),\n",
       " (6, 3, 6),\n",
       " (6, 3, 7),\n",
       " (6, 3, 8),\n",
       " (6, 3, 9),\n",
       " (6, 4, 0),\n",
       " (6, 4, 1),\n",
       " (6, 4, 2),\n",
       " (6, 4, 3),\n",
       " (6, 4, 4),\n",
       " (6, 4, 5),\n",
       " (6, 4, 6),\n",
       " (6, 4, 7),\n",
       " (6, 4, 8),\n",
       " (6, 4, 9),\n",
       " (6, 5, 0),\n",
       " (6, 5, 1),\n",
       " (6, 5, 2),\n",
       " (6, 5, 3),\n",
       " (6, 5, 4),\n",
       " (6, 5, 5),\n",
       " (6, 5, 6),\n",
       " (6, 5, 7),\n",
       " (6, 5, 8),\n",
       " (6, 5, 9),\n",
       " (6, 6, 0),\n",
       " (6, 6, 1),\n",
       " (6, 6, 2),\n",
       " (6, 6, 3),\n",
       " (6, 6, 4),\n",
       " (6, 6, 5),\n",
       " (6, 6, 6),\n",
       " (6, 6, 7),\n",
       " (6, 6, 8),\n",
       " (6, 6, 9),\n",
       " (6, 7, 0),\n",
       " (6, 7, 1),\n",
       " (6, 7, 2),\n",
       " (6, 7, 3),\n",
       " (6, 7, 4),\n",
       " (6, 7, 5),\n",
       " (6, 7, 6),\n",
       " (6, 7, 7),\n",
       " (6, 7, 8),\n",
       " (6, 7, 9),\n",
       " (6, 8, 0),\n",
       " (6, 8, 1),\n",
       " (6, 8, 2),\n",
       " (6, 8, 3),\n",
       " (6, 8, 4),\n",
       " (6, 8, 5),\n",
       " (6, 8, 6),\n",
       " (6, 8, 7),\n",
       " (6, 8, 8),\n",
       " (6, 8, 9),\n",
       " (6, 9, 0),\n",
       " (6, 9, 1),\n",
       " (6, 9, 2),\n",
       " (6, 9, 3),\n",
       " (6, 9, 4),\n",
       " (6, 9, 5),\n",
       " (6, 9, 6),\n",
       " (6, 9, 7),\n",
       " (6, 9, 8),\n",
       " (6, 9, 9),\n",
       " (7, 0, 0),\n",
       " (7, 0, 1),\n",
       " (7, 0, 2),\n",
       " (7, 0, 3),\n",
       " (7, 0, 4),\n",
       " (7, 0, 5),\n",
       " (7, 0, 6),\n",
       " (7, 0, 7),\n",
       " (7, 0, 8),\n",
       " (7, 0, 9),\n",
       " (7, 1, 0),\n",
       " (7, 1, 1),\n",
       " (7, 1, 2),\n",
       " (7, 1, 3),\n",
       " (7, 1, 4),\n",
       " (7, 1, 5),\n",
       " (7, 1, 6),\n",
       " (7, 1, 7),\n",
       " (7, 1, 8),\n",
       " (7, 1, 9),\n",
       " (7, 2, 0),\n",
       " (7, 2, 1),\n",
       " (7, 2, 2),\n",
       " (7, 2, 3),\n",
       " (7, 2, 4),\n",
       " (7, 2, 5),\n",
       " (7, 2, 6),\n",
       " (7, 2, 7),\n",
       " (7, 2, 8),\n",
       " (7, 2, 9),\n",
       " (7, 3, 0),\n",
       " (7, 3, 1),\n",
       " (7, 3, 2),\n",
       " (7, 3, 3),\n",
       " (7, 3, 4),\n",
       " (7, 3, 5),\n",
       " (7, 3, 6),\n",
       " (7, 3, 7),\n",
       " (7, 3, 8),\n",
       " (7, 3, 9),\n",
       " (7, 4, 0),\n",
       " (7, 4, 1),\n",
       " (7, 4, 2),\n",
       " (7, 4, 3),\n",
       " (7, 4, 4),\n",
       " (7, 4, 5),\n",
       " (7, 4, 6),\n",
       " (7, 4, 7),\n",
       " (7, 4, 8),\n",
       " (7, 4, 9),\n",
       " (7, 5, 0),\n",
       " (7, 5, 1),\n",
       " (7, 5, 2),\n",
       " (7, 5, 3),\n",
       " (7, 5, 4),\n",
       " (7, 5, 5),\n",
       " (7, 5, 6),\n",
       " (7, 5, 7),\n",
       " (7, 5, 8),\n",
       " (7, 5, 9),\n",
       " (7, 6, 0),\n",
       " (7, 6, 1),\n",
       " (7, 6, 2),\n",
       " (7, 6, 3),\n",
       " (7, 6, 4),\n",
       " (7, 6, 5),\n",
       " (7, 6, 6),\n",
       " (7, 6, 7),\n",
       " (7, 6, 8),\n",
       " (7, 6, 9),\n",
       " (7, 7, 0),\n",
       " (7, 7, 1),\n",
       " (7, 7, 2),\n",
       " (7, 7, 3),\n",
       " (7, 7, 4),\n",
       " (7, 7, 5),\n",
       " (7, 7, 6),\n",
       " (7, 7, 7),\n",
       " (7, 7, 8),\n",
       " (7, 7, 9),\n",
       " (7, 8, 0),\n",
       " (7, 8, 1),\n",
       " (7, 8, 2),\n",
       " (7, 8, 3),\n",
       " (7, 8, 4),\n",
       " (7, 8, 5),\n",
       " (7, 8, 6),\n",
       " (7, 8, 7),\n",
       " (7, 8, 8),\n",
       " (7, 8, 9),\n",
       " (7, 9, 0),\n",
       " (7, 9, 1),\n",
       " (7, 9, 2),\n",
       " (7, 9, 3),\n",
       " (7, 9, 4),\n",
       " (7, 9, 5),\n",
       " (7, 9, 6),\n",
       " (7, 9, 7),\n",
       " (7, 9, 8),\n",
       " (7, 9, 9),\n",
       " (8, 0, 0),\n",
       " (8, 0, 1),\n",
       " (8, 0, 2),\n",
       " (8, 0, 3),\n",
       " (8, 0, 4),\n",
       " (8, 0, 5),\n",
       " (8, 0, 6),\n",
       " (8, 0, 7),\n",
       " (8, 0, 8),\n",
       " (8, 0, 9),\n",
       " (8, 1, 0),\n",
       " (8, 1, 1),\n",
       " (8, 1, 2),\n",
       " (8, 1, 3),\n",
       " (8, 1, 4),\n",
       " (8, 1, 5),\n",
       " (8, 1, 6),\n",
       " (8, 1, 7),\n",
       " (8, 1, 8),\n",
       " (8, 1, 9),\n",
       " (8, 2, 0),\n",
       " (8, 2, 1),\n",
       " (8, 2, 2),\n",
       " (8, 2, 3),\n",
       " (8, 2, 4),\n",
       " (8, 2, 5),\n",
       " (8, 2, 6),\n",
       " (8, 2, 7),\n",
       " (8, 2, 8),\n",
       " (8, 2, 9),\n",
       " (8, 3, 0),\n",
       " (8, 3, 1),\n",
       " (8, 3, 2),\n",
       " (8, 3, 3),\n",
       " (8, 3, 4),\n",
       " (8, 3, 5),\n",
       " (8, 3, 6),\n",
       " (8, 3, 7),\n",
       " (8, 3, 8),\n",
       " (8, 3, 9),\n",
       " (8, 4, 0),\n",
       " (8, 4, 1),\n",
       " (8, 4, 2),\n",
       " (8, 4, 3),\n",
       " (8, 4, 4),\n",
       " (8, 4, 5),\n",
       " (8, 4, 6),\n",
       " (8, 4, 7),\n",
       " (8, 4, 8),\n",
       " (8, 4, 9),\n",
       " (8, 5, 0),\n",
       " (8, 5, 1),\n",
       " (8, 5, 2),\n",
       " (8, 5, 3),\n",
       " (8, 5, 4),\n",
       " (8, 5, 5),\n",
       " (8, 5, 6),\n",
       " (8, 5, 7),\n",
       " (8, 5, 8),\n",
       " (8, 5, 9),\n",
       " (8, 6, 0),\n",
       " (8, 6, 1),\n",
       " (8, 6, 2),\n",
       " (8, 6, 3),\n",
       " (8, 6, 4),\n",
       " (8, 6, 5),\n",
       " (8, 6, 6),\n",
       " (8, 6, 7),\n",
       " (8, 6, 8),\n",
       " (8, 6, 9),\n",
       " (8, 7, 0),\n",
       " (8, 7, 1),\n",
       " (8, 7, 2),\n",
       " (8, 7, 3),\n",
       " (8, 7, 4),\n",
       " (8, 7, 5),\n",
       " (8, 7, 6),\n",
       " (8, 7, 7),\n",
       " (8, 7, 8),\n",
       " (8, 7, 9),\n",
       " (8, 8, 0),\n",
       " (8, 8, 1),\n",
       " (8, 8, 2),\n",
       " (8, 8, 3),\n",
       " (8, 8, 4),\n",
       " (8, 8, 5),\n",
       " (8, 8, 6),\n",
       " (8, 8, 7),\n",
       " (8, 8, 8),\n",
       " (8, 8, 9),\n",
       " (8, 9, 0),\n",
       " (8, 9, 1),\n",
       " (8, 9, 2),\n",
       " (8, 9, 3),\n",
       " (8, 9, 4),\n",
       " (8, 9, 5),\n",
       " (8, 9, 6),\n",
       " (8, 9, 7),\n",
       " (8, 9, 8),\n",
       " (8, 9, 9),\n",
       " (9, 0, 0),\n",
       " (9, 0, 1),\n",
       " (9, 0, 2),\n",
       " (9, 0, 3),\n",
       " (9, 0, 4),\n",
       " (9, 0, 5),\n",
       " (9, 0, 6),\n",
       " (9, 0, 7),\n",
       " (9, 0, 8),\n",
       " (9, 0, 9),\n",
       " (9, 1, 0),\n",
       " (9, 1, 1),\n",
       " (9, 1, 2),\n",
       " (9, 1, 3),\n",
       " (9, 1, 4),\n",
       " (9, 1, 5),\n",
       " (9, 1, 6),\n",
       " (9, 1, 7),\n",
       " (9, 1, 8),\n",
       " (9, 1, 9),\n",
       " (9, 2, 0),\n",
       " (9, 2, 1),\n",
       " (9, 2, 2),\n",
       " (9, 2, 3),\n",
       " (9, 2, 4),\n",
       " (9, 2, 5),\n",
       " (9, 2, 6),\n",
       " (9, 2, 7),\n",
       " (9, 2, 8),\n",
       " (9, 2, 9),\n",
       " (9, 3, 0),\n",
       " (9, 3, 1),\n",
       " (9, 3, 2),\n",
       " (9, 3, 3),\n",
       " (9, 3, 4),\n",
       " (9, 3, 5),\n",
       " (9, 3, 6),\n",
       " (9, 3, 7),\n",
       " (9, 3, 8),\n",
       " (9, 3, 9),\n",
       " (9, 4, 0),\n",
       " (9, 4, 1),\n",
       " (9, 4, 2),\n",
       " (9, 4, 3),\n",
       " (9, 4, 4),\n",
       " (9, 4, 5),\n",
       " (9, 4, 6),\n",
       " (9, 4, 7),\n",
       " (9, 4, 8),\n",
       " (9, 4, 9),\n",
       " (9, 5, 0),\n",
       " (9, 5, 1),\n",
       " (9, 5, 2),\n",
       " (9, 5, 3),\n",
       " (9, 5, 4),\n",
       " (9, 5, 5),\n",
       " (9, 5, 6),\n",
       " (9, 5, 7),\n",
       " (9, 5, 8),\n",
       " (9, 5, 9),\n",
       " (9, 6, 0),\n",
       " (9, 6, 1),\n",
       " (9, 6, 2),\n",
       " (9, 6, 3),\n",
       " (9, 6, 4),\n",
       " (9, 6, 5),\n",
       " (9, 6, 6),\n",
       " (9, 6, 7),\n",
       " (9, 6, 8),\n",
       " (9, 6, 9),\n",
       " (9, 7, 0),\n",
       " (9, 7, 1),\n",
       " (9, 7, 2),\n",
       " (9, 7, 3),\n",
       " (9, 7, 4),\n",
       " (9, 7, 5),\n",
       " (9, 7, 6),\n",
       " (9, 7, 7),\n",
       " (9, 7, 8),\n",
       " (9, 7, 9),\n",
       " (9, 8, 0),\n",
       " (9, 8, 1),\n",
       " (9, 8, 2),\n",
       " (9, 8, 3),\n",
       " (9, 8, 4),\n",
       " (9, 8, 5),\n",
       " (9, 8, 6),\n",
       " (9, 8, 7),\n",
       " (9, 8, 8),\n",
       " (9, 8, 9),\n",
       " (9, 9, 0),\n",
       " (9, 9, 1),\n",
       " (9, 9, 2),\n",
       " (9, 9, 3),\n",
       " (9, 9, 4),\n",
       " (9, 9, 5),\n",
       " (9, 9, 6),\n",
       " (9, 9, 7),\n",
       " (9, 9, 8),\n",
       " (9, 9, 9)]"
      ]
     },
     "execution_count": 56,
     "metadata": {},
     "output_type": "execute_result"
    }
   ],
   "source": [
    "import itertools\n",
    "p=d=q=range(0,10)\n",
    "pdq = list(itertools.product(p,d,q))\n",
    "pdq"
   ]
  },
  {
   "cell_type": "code",
   "execution_count": 57,
   "metadata": {},
   "outputs": [
    {
     "name": "stdout",
     "output_type": "stream",
     "text": [
      "(0, 0, 0) 456.6247842829089\n",
      "(0, 0, 1) 458.62440804789406\n",
      "(0, 0, 2) 457.08530419597207\n",
      "(0, 0, 3) 457.23069259368793\n",
      "(0, 0, 4) 459.2218058110335\n",
      "(0, 0, 5) nan\n",
      "(0, 0, 6) 529.0402618625942\n",
      "(0, 1, 0) 457.5870625752309\n",
      "(0, 1, 1) 445.82225407686605\n",
      "(0, 1, 2) 447.76766657359906\n",
      "(0, 2, 0) 465.5075599324358\n",
      "(0, 2, 1) 446.1627292260166\n",
      "(1, 0, 0) 458.6245752233169\n",
      "(1, 1, 0) 455.9210299958068\n",
      "(1, 2, 0) 458.434540025576\n",
      "(2, 0, 0) 459.37592446080083\n",
      "(2, 0, 1) 457.0837190513648\n",
      "(2, 1, 0) 454.27715708938547\n",
      "(2, 2, 0) 452.8947899531146\n",
      "(2, 2, 1) 444.0351576221012\n",
      "(3, 0, 0) 460.9401799652044\n",
      "(3, 1, 0) 453.72304369016166\n",
      "(3, 2, 0) 450.07010427158605\n",
      "(3, 2, 1) 444.3569021862487\n",
      "(4, 0, 0) 462.8037008341132\n",
      "(4, 1, 0) 455.1578223428757\n",
      "(4, 1, 1) 452.45908942304686\n",
      "(4, 2, 0) 451.28425631385346\n",
      "(4, 2, 1) 446.12526792902486\n",
      "(5, 0, 0) 463.8740230335996\n",
      "(5, 1, 0) 454.37735291732537\n",
      "(5, 2, 0) 448.53495389378463\n",
      "(6, 0, 0) 465.79739467747555\n",
      "(6, 1, 0) 456.3706758955881\n",
      "(7, 0, 0) 465.82918464966707\n",
      "(8, 0, 0) 467.79083001290803\n",
      "(8, 0, 1) 464.1331949694212\n",
      "(9, 0, 0) 468.6797818044109\n",
      "(9, 0, 7) 579.2352996702812\n",
      "(9, 1, 0) 460.6439072916048\n",
      "(9, 1, 1) 461.16498442743057\n"
     ]
    }
   ],
   "source": [
    "import warnings\n",
    "warnings.filterwarnings('ignore')\n",
    "for param in pdq:\n",
    "    try:\n",
    "        model_arima = ARIMA(train,order=param)\n",
    "        model_arima_fit = model_arima.fit()\n",
    "        print(param,model_arima_fit.aic)\n",
    "    except:\n",
    "        continue\n",
    "    "
   ]
  },
  {
   "cell_type": "code",
   "execution_count": 58,
   "metadata": {},
   "outputs": [
    {
     "data": {
      "text/plain": [
       "array([15950.97732188, 16461.10056224, 16881.98564974, 15836.2328284 ,\n",
       "       16748.31254623, 16454.62199548, 16562.93937244, 15761.95243732,\n",
       "       16785.36139413, 16048.52887149])"
      ]
     },
     "execution_count": 58,
     "metadata": {},
     "output_type": "execute_result"
    }
   ],
   "source": [
    "predictions= model_arima_fit.forecast(steps=10)[0]\n",
    "predictions"
   ]
  },
  {
   "cell_type": "code",
   "execution_count": 59,
   "metadata": {},
   "outputs": [
    {
     "data": {
      "text/plain": [
       "[<matplotlib.lines.Line2D at 0x2792fed57f0>]"
      ]
     },
     "execution_count": 59,
     "metadata": {},
     "output_type": "execute_result"
    },
    {
     "data": {
      "image/png": "[encoded data removed]",
      "text/plain": [
       "<Figure size 432x288 with 1 Axes>"
      ]
     },
     "metadata": {
      "needs_background": "light"
     },
     "output_type": "display_data"
    }
   ],
   "source": [
    "plt.plot(test)\n",
    "plt.plot(predictions,color='red')"
   ]
  },
  {
   "cell_type": "code",
   "execution_count": 60,
   "metadata": {},
   "outputs": [
    {
     "data": {
      "text/plain": [
       "706668.0653103334"
      ]
     },
     "execution_count": 60,
     "metadata": {},
     "output_type": "execute_result"
    }
   ],
   "source": [
    "mean_squared_error(test,predictions)"
   ]
  }
 ],
 "metadata": {
  "kernelspec": {
   "display_name": "Python 3",
   "language": "python",
   "name": "python3"
  },
  "language_info": {
   "codemirror_mode": {
    "name": "ipython",
    "version": 3
   },
   "file_extension": ".py",
   "mimetype": "text/x-python",
   "name": "python",
   "nbconvert_exporter": "python",
   "pygments_lexer": "ipython3",
   "version": "3.7.3"
  }
 },
 "nbformat": 4,
 "nbformat_minor": 2
}
